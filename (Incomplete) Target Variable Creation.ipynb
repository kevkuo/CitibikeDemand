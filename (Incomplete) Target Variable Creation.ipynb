{
 "cells": [
  {
   "cell_type": "markdown",
   "metadata": {},
   "source": [
    "### Station Data"
   ]
  },
  {
   "cell_type": "code",
   "execution_count": null,
   "metadata": {},
   "outputs": [],
   "source": [
    "import pandas as pd\n",
    "import warnings\n",
    "warnings.filterwarnings('ignore')"
   ]
  },
  {
   "cell_type": "code",
   "execution_count": null,
   "metadata": {},
   "outputs": [],
   "source": [
    "stations = pd.read_csv('station_availability_df', index_col=0).reset_index()\n",
    "\n",
    "#combine hour and date to create timestamp\n",
    "stations['date'] = pd.to_datetime(stations[['date', 'hour']].astype(str).apply(lambda r: ' '.join(r), axis=1) + ':00:00', format = '%Y-%m-%d %H:%M:%S') \n",
    "station_availabilities = stations.loc[stations['in_service']==1,['dock_id','date','avail_bikes','avail_docks']]\n",
    "station_availabilities.head(1)"
   ]
  },
  {
   "cell_type": "markdown",
   "metadata": {},
   "source": [
    "### Bike Data"
   ]
  },
  {
   "cell_type": "code",
   "execution_count": null,
   "metadata": {},
   "outputs": [],
   "source": [
    "bike_trips = pd.read_csv('bike_trip_df',index_col = 0).reset_index()"
   ]
  },
  {
   "cell_type": "code",
   "execution_count": null,
   "metadata": {},
   "outputs": [],
   "source": [
    "import datetime\n",
    "bike_trips['starttime'] = pd.to_datetime(bike_trips['starttime'], format = '%Y-%m-%d %H:%M:%S')\n",
    "bike_trips['stoptime'] = pd.to_datetime(bike_trips['stoptime'], format = '%Y-%m-%d %H:%M:%S')\n",
    "\n",
    "#round all times to earliest hour\n",
    "bike_trips['starttime'] = bike_trips['starttime'].apply(lambda dt: datetime.datetime(dt.year, dt.month, dt.day, dt.hour))\n",
    "bike_trips['stoptime'] = bike_trips['stoptime'].apply(lambda dt: datetime.datetime(dt.year, dt.month, dt.day, dt.hour))\n",
    "\n",
    "#create two dataframes counting bike trips aggregated by timestamp and station id\n",
    "outgoing_trips = bike_trips[['starttime','start station id']]\n",
    "incoming_trips = bike_trips[['stoptime','end station id']]\n",
    "incoming_bike_trips = incoming_trips.groupby(['stoptime','end station id']).size().reset_index()\n",
    "outgoing_bike_trips = outgoing_trips.groupby(['starttime','start station id']).size().reset_index()"
   ]
  },
  {
   "cell_type": "code",
   "execution_count": null,
   "metadata": {},
   "outputs": [],
   "source": [
    "#merge two dataframes to find net bikes being added to the station\n",
    "all_trips = pd.merge(incoming_bike_trips,outgoing_bike_trips, left_on = ['stoptime','end station id'], right_on = ['starttime','start station id'], copy = False)\n",
    "all_trips = all_trips.rename(index = str, columns = {\"stoptime\": \"date\", \"end station id\":\"dock_id\", \"0_x\":\"incoming_bikes\",\"0_y\":\"outgoing_bikes\"}).drop(columns = [\"starttime\",\"start station id\"])\n",
    "all_trips['net_bikes'] = all_trips.incoming_bikes-all_trips.outgoing_bikes\n",
    "all_trips = all_trips.drop(columns = ['incoming_bikes','outgoing_bikes'])\n",
    "\n",
    "all_trips.head(1)"
   ]
  },
  {
   "cell_type": "markdown",
   "metadata": {},
   "source": [
    "### Rebalancing Calculations"
   ]
  },
  {
   "cell_type": "code",
   "execution_count": null,
   "metadata": {},
   "outputs": [],
   "source": [
    "#combine station availability data to net incoming bike data\n",
    "df = pd.merge(station_availabilities,all_trips, on = ['dock_id','date'], how = 'left', copy = False).sort_values(by = ['dock_id', 'date'], ascending = True)\n",
    "#replace all instances when no bikes left or arrived with 0\n",
    "df.net_bikes.fillna(0,inplace=True)\n",
    "df.head(1)"
   ]
  },
  {
   "cell_type": "code",
   "execution_count": null,
   "metadata": {},
   "outputs": [],
   "source": [
    "#create column calculating how many bikes should be available at the next hour\n",
    "df['theoretical_eoh_avail_bikes'] = df.avail_bikes+df.net_bikes\n",
    "df = df.reset_index(drop=True)\n",
    "df.head(5)"
   ]
  },
  {
   "cell_type": "code",
   "execution_count": null,
   "metadata": {},
   "outputs": [],
   "source": [
    "#shift inventory numbers back one hour to compare between how many bikes should be available \n",
    "#and how many bikes actually are\n",
    "df['actual_eoh_avail_bikes'] = df.groupby(['dock_id'])['avail_bikes'].shift(-1)"
   ]
  },
  {
   "cell_type": "code",
   "execution_count": null,
   "metadata": {},
   "outputs": [],
   "source": [
    "df.actual_eoh_avail_bikes = df.actual_eoh_avail_bikes.fillna(df.theoretical_eoh_avail_bikes)\n",
    "df.head(5)"
   ]
  },
  {
   "cell_type": "code",
   "execution_count": null,
   "metadata": {},
   "outputs": [],
   "source": [
    "df['bikes_added_by_citibike'] = df.actual_eoh_avail_bikes - df.theoretical_eoh_avail_bikes\n",
    "df.head(5)"
   ]
  },
  {
   "cell_type": "markdown",
   "metadata": {},
   "source": [
    "### Labeling"
   ]
  },
  {
   "cell_type": "code",
   "execution_count": null,
   "metadata": {},
   "outputs": [],
   "source": [
    "no_rebalancing_df = df[['dock_id','date','avail_bikes','avail_docks','net_bikes','bikes_added_by_citibike']].copy()"
   ]
  },
  {
   "cell_type": "code",
   "execution_count": null,
   "metadata": {},
   "outputs": [],
   "source": [
    "no_rebalancing_df.head(1)"
   ]
  },
  {
   "cell_type": "code",
   "execution_count": null,
   "metadata": {},
   "outputs": [],
   "source": [
    "### this is to get indexes of full or empty stations\n",
    "\n",
    "#loop through each row\n",
    "no_rebalancing_df = df.loc[df['dock_id']==72,['dock_id','date','avail_bikes','avail_docks','net_bikes','bikes_added_by_citibike']].copy()\n",
    "\n",
    "full_stations = []\n",
    "empty_stations = []\n",
    "start_point = 0\n",
    "\n",
    "#how do i get the for loop to go back one step\n",
    "for i in no_rebalancing_df.index:\n",
    "    #if available bikes hits 0, save index and set the start point to that row index\n",
    "    if no_rebalancing_df.iloc[i].avail_bikes<=0:\n",
    "        empty_stations.append(no_rebalancing_df.iloc[i].name)\n",
    "        start_point = i\n",
    "        no_rebalancing_df = df.loc[df['dock_id']==72,['dock_id','date','avail_bikes','avail_docks','net_bikes','bikes_added_by_citibike']].copy()\n",
    "    #if available bikes hits 0, save index and set the start point to that row index\n",
    "    elif no_rebalancing_df.iloc[i].avail_docks<=0:\n",
    "        full_stations.append(no_rebalancing_df.iloc[i].name)\n",
    "        start_point = i\n",
    "        no_rebalancing_df = df.loc[df['dock_id']==72,['dock_id','date','avail_bikes','avail_docks','net_bikes','bikes_added_by_citibike']].copy()\n",
    "    #if bikes_added_by_citibike is not 0\n",
    "    elif no_rebalancing_df.bikes_added_by_citibike[i]!=0:\n",
    "        #subtract that number from all avail_bikes and add that number to all avail_docks for that dock_id after that time\n",
    "        #save the dock_id of the row we're looking at\n",
    "        dock_id = no_rebalancing_df.iloc[i].dock_id\n",
    "        rebalancing_int = no_rebalancing_df.iloc[i].bikes_added_by_citibike\n",
    "        #find the last row with the same dock_id, add 1, and subtract rebalanced bike number from slice from index + 1 to last row\n",
    "        no_rebalancing_df.loc[i+1:no_rebalancing_df[no_rebalancing_df.dock_id == dock_id].index.max() + 1,'avail_bikes'] = no_rebalancing_df[i+1:no_rebalancing_df[no_rebalancing_df.dock_id == dock_id].index.max() + 1].avail_bikes - rebalancing_int\n",
    "        no_rebalancing_df.loc[i+1:no_rebalancing_df[no_rebalancing_df.dock_id == dock_id].index.max() + 1,'avail_docks'] = no_rebalancing_df[i+1:no_rebalancing_df[no_rebalancing_df.dock_id == dock_id].index.max() + 1].avail_docks + rebalancing_int\n",
    "        \n",
    "        \n",
    "        \n",
    "        "
   ]
  },
  {
   "cell_type": "code",
   "execution_count": null,
   "metadata": {},
   "outputs": [],
   "source": [
    "### this is to check the code\n",
    "\n",
    "\n",
    "#loop through each row\n",
    "no_rebalancing_df = df.loc[df['dock_id']==72,['dock_id','date','avail_bikes','avail_docks','net_bikes','bikes_added_by_citibike']].copy()\n",
    "\n",
    "#how do i get the for loop to go back one step\n",
    "for i in no_rebalancing_df.index:\n",
    "    #if available bikes hits 0, save index and set the start point to that row index\n",
    "    if no_rebalancing_df.bikes_added_by_citibike[i]!=0:\n",
    "        #subtract that number from all avail_bikes and add that number to all avail_docks for that dock_id after that time\n",
    "        #save the dock_id of the row we're looking at\n",
    "        dock_id = no_rebalancing_df.iloc[i].dock_id\n",
    "        rebalancing_int = no_rebalancing_df.iloc[i].bikes_added_by_citibike\n",
    "        #find the last row with the same dock_id, add 1, and subtract rebalanced bike number from slice from index + 1 to last row\n",
    "        no_rebalancing_df.loc[i+1:no_rebalancing_df[no_rebalancing_df.dock_id == dock_id].index.max() + 1,'avail_bikes'] = no_rebalancing_df[i+1:no_rebalancing_df[no_rebalancing_df.dock_id == dock_id].index.max() + 1].avail_bikes - rebalancing_int\n",
    "        no_rebalancing_df.loc[i+1:no_rebalancing_df[no_rebalancing_df.dock_id == dock_id].index.max() + 1,'avail_docks'] = no_rebalancing_df[i+1:no_rebalancing_df[no_rebalancing_df.dock_id == dock_id].index.max() + 1].avail_docks + rebalancing_int\n",
    "        \n",
    "        \n",
    "        \n",
    "        "
   ]
  },
  {
   "cell_type": "code",
   "execution_count": null,
   "metadata": {},
   "outputs": [],
   "source": [
    "print(full_stations)\n",
    "print(empty_stations)\n",
    "print(start_point)"
   ]
  },
  {
   "cell_type": "code",
   "execution_count": null,
   "metadata": {
    "scrolled": true
   },
   "outputs": [],
   "source": [
    "pd.set_option('display.max_rows', 10000)\n",
    "no_rebalancing_df.loc[no_rebalancing_df['dock_id']==72,:]"
   ]
  },
  {
   "cell_type": "code",
   "execution_count": null,
   "metadata": {},
   "outputs": [],
   "source": []
  },
  {
   "cell_type": "code",
   "execution_count": null,
   "metadata": {},
   "outputs": [],
   "source": [
    "no_rebalancing_df.head()"
   ]
  },
  {
   "cell_type": "code",
   "execution_count": null,
   "metadata": {},
   "outputs": [],
   "source": [
    "#loop through each row\n",
    "no_rebalancing_df = df.loc[df['dock_id']==72,['dock_id','date','avail_bikes','avail_docks','net_bikes','bikes_added_by_citibike']].copy()\n",
    "\n",
    "full_stations = []\n",
    "empty_stations = []\n",
    "i = 0\n",
    "\n",
    "\n",
    "#to do: how do i get the for loop to go back one step\n",
    "while i < len(no_rebalancing_df):\n",
    "    #if available bikes hits 0, save index and set the start point to that row index\n",
    "    if no_rebalancing_df.iloc[i].avail_bikes==0:\n",
    "        empty_stations.append(no_rebalancing_df.iloc[i].name)\n",
    "        no_rebalancing_df = df.loc[df['dock_id']==72,['dock_id','date','avail_bikes','avail_docks','net_bikes','bikes_added_by_citibike']].copy()\n",
    "        i += 1\n",
    "    #if available bikes hits 0, save index and set the start point to that row index\n",
    "    elif no_rebalancing_df.iloc[i].avail_docks==0:\n",
    "        full_stations.append(no_rebalancing_df.iloc[i].name)\n",
    "        no_rebalancing_df = df.loc[df['dock_id']==72,['dock_id','date','avail_bikes','avail_docks','net_bikes','bikes_added_by_citibike']].copy()\n",
    "        i += 1\n",
    "    #if bikes_added_by_citibike is not 0\n",
    "    elif no_rebalancing_df.bikes_added_by_citibike[i]!=0:\n",
    "        #subtract that number from all avail_bikes and add that number to all avail_docks for that dock_id after that time\n",
    "        #save the dock_id of the row we're looking at\n",
    "        dock_id = no_rebalancing_df.iloc[i].dock_id\n",
    "        rebalancing_int = no_rebalancing_df.iloc[i].bikes_added_by_citibike\n",
    "        #find the last row with the same dock_id, add 1, and subtract rebalanced bike number from slice from index + 1 to last row\n",
    "        no_rebalancing_df.loc[i+1:no_rebalancing_df[no_rebalancing_df.dock_id == dock_id].index.max() + 1,'avail_bikes'] = no_rebalancing_df[i+1:no_rebalancing_df[no_rebalancing_df.dock_id == dock_id].index.max() + 1].avail_bikes - rebalancing_int\n",
    "        no_rebalancing_df.loc[i+1:no_rebalancing_df[no_rebalancing_df.dock_id == dock_id].index.max() + 1,'avail_docks'] = no_rebalancing_df[i+1:no_rebalancing_df[no_rebalancing_df.dock_id == dock_id].index.max() + 1].avail_docks + rebalancing_int\n",
    "        i += 1"
   ]
  },
  {
   "cell_type": "code",
   "execution_count": null,
   "metadata": {},
   "outputs": [],
   "source": [
    "### this is to get indexes of full or empty stations\n",
    "\n",
    "#loop through each row\n",
    "no_rebalancing_df = df.loc[df['dock_id']==72,['dock_id','date','avail_bikes','avail_docks','net_bikes','bikes_added_by_citibike']].copy()\n",
    "\n",
    "full_stations = []\n",
    "empty_stations = []\n",
    "i = 0\n",
    "\n",
    "#how do i get the for loop to go back one step\n",
    "while i < len(no_rebalancing_df):\n",
    "    #if available bikes hits 0, save index and set the start point to that row index\n",
    "    if no_rebalancing_df.iloc[i].avail_bikes<=0 and no_rebalancing_df.iloc[i - 1].bikes_added_by_citibike != 0:\n",
    "        empty_stations.append(no_rebalancing_df.iloc[i].name)\n",
    "        no_rebalancing_df = df.loc[df['dock_id']==72,['dock_id','date','avail_bikes','avail_docks','net_bikes','bikes_added_by_citibike']].copy()\n",
    "    #if available bikes hits 0, save index and set the start point to that row index\n",
    "    elif no_rebalancing_df.iloc[i].avail_docks<=0 and no_rebalancing_df.iloc[i - 1].bikes_added_by_citibike != 0:\n",
    "        full_stations.append(no_rebalancing_df.iloc[i].name)\n",
    "        no_rebalancing_df = df.loc[df['dock_id']==72,['dock_id','date','avail_bikes','avail_docks','net_bikes','bikes_added_by_citibike']].copy()\n",
    "    #if bikes_added_by_citibike is not 0\n",
    "    elif no_rebalancing_df.bikes_added_by_citibike[i]!=0:\n",
    "        #subtract that number from all avail_bikes and add that number to all avail_docks for that dock_id after that time\n",
    "        #save the dock_id of the row we're looking at\n",
    "        dock_id = no_rebalancing_df.iloc[i].dock_id\n",
    "        rebalancing_int = no_rebalancing_df.iloc[i].bikes_added_by_citibike\n",
    "        #find the last row with the same dock_id, add 1, and subtract rebalanced bike number from slice from index + 1 to last row\n",
    "        no_rebalancing_df.loc[i+1:no_rebalancing_df[no_rebalancing_df.dock_id == dock_id].index.max() + 1,'avail_bikes'] = no_rebalancing_df[i+1:no_rebalancing_df[no_rebalancing_df.dock_id == dock_id].index.max() + 1].avail_bikes - rebalancing_int\n",
    "        no_rebalancing_df.loc[i+1:no_rebalancing_df[no_rebalancing_df.dock_id == dock_id].index.max() + 1,'avail_docks'] = no_rebalancing_df[i+1:no_rebalancing_df[no_rebalancing_df.dock_id == dock_id].index.max() + 1].avail_docks + rebalancing_int\n",
    "        i+=1\n",
    "    else:\n",
    "        i+=1"
   ]
  },
  {
   "cell_type": "code",
   "execution_count": null,
   "metadata": {},
   "outputs": [],
   "source": [
    "print(full_stations)\n",
    "print(empty_stations)\n",
    "print(start_point)"
   ]
  },
  {
   "cell_type": "code",
   "execution_count": null,
   "metadata": {},
   "outputs": [],
   "source": []
  }
 ],
 "metadata": {
  "kernelspec": {
   "display_name": "Python 3",
   "language": "python",
   "name": "python3"
  },
  "language_info": {
   "codemirror_mode": {
    "name": "ipython",
    "version": 3
   },
   "file_extension": ".py",
   "mimetype": "text/x-python",
   "name": "python",
   "nbconvert_exporter": "python",
   "pygments_lexer": "ipython3",
   "version": "3.6.4"
  }
 },
 "nbformat": 4,
 "nbformat_minor": 2
}
