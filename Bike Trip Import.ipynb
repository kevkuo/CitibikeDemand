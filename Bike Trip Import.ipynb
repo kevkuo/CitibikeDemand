{
 "cells": [
  {
   "cell_type": "markdown",
   "metadata": {},
   "source": [
    "# Importing and Tidying Data"
   ]
  },
  {
   "cell_type": "code",
   "execution_count": 1,
   "metadata": {},
   "outputs": [],
   "source": [
    "import pandas as pd\n",
    "import sklearn\n",
    "import matplotlib.pyplot as plt\n",
    "import numpy as np\n",
    "import seaborn as sns\n",
    "from dateutil.relativedelta import relativedelta\n",
    "from datetime import datetime\n",
    "import datetime"
   ]
  },
  {
   "cell_type": "code",
   "execution_count": 2,
   "metadata": {},
   "outputs": [],
   "source": [
    "# create array of dates to use for looping through Citibike's poorly named Index\n",
    "relevant_datetimes = []\n",
    "latest = datetime.date(2016, 12, 1)\n",
    "current = datetime.date(2015, 3, 1)    \n",
    "\n",
    "while current <= latest:\n",
    "    relevant_datetimes.append(current)\n",
    "    current += relativedelta(months=1)\n",
    "\n",
    "#break up list of csvs into two for easier processing\n",
    "batch1 = relevant_datetimes[:int(len(relevant_datetimes)/2)]\n",
    "batch2 = relevant_datetimes[int(len(relevant_datetimes)/2):]\n",
    "\n",
    "bike_trip_df1 = pd.DataFrame()\n",
    "\n",
    "#combine all trip data CSVs\n",
    "for dt in batch1:\n",
    "    df = pd.read_csv('https://s3.amazonaws.com/tripdata/'+str(dt.year)+str(dt.month).zfill(2)+'-citibike-tripdata.zip', compression='zip', header=0, sep=',', quotechar='\"')\n",
    "    \n",
    "    #conserve storage, change dtypes\n",
    "    df['starttime'] = df['starttime'].apply(lambda x: x + \":00\" if (x[-3]==\":\") & (x[-6]!=\":\") else x)\n",
    "    df['stoptime'] = df['stoptime'].apply(lambda x: x + \":00\" if (x[-3]==\":\") & (x[-6]!=\":\") else x)\n",
    "    df['starttime'] = pd.to_datetime(df['starttime'], format = '%m/%d/%Y %H:%M:%S')\n",
    "    df['stoptime'] = pd.to_datetime(df['stoptime'], format = '%m/%d/%Y %H:%M:%S')\n",
    "    df['usertype'] = df['usertype'].astype('category')\n",
    "    \n",
    "    bike_trip_df1 = bike_trip_df1.append(df)"
   ]
  },
  {
   "cell_type": "code",
   "execution_count": 4,
   "metadata": {},
   "outputs": [
    {
     "name": "stdout",
     "output_type": "stream",
     "text": [
      "<class 'pandas.core.frame.DataFrame'>\n",
      "Int64Index: 9964965 entries, 0 to 509477\n",
      "Data columns (total 15 columns):\n",
      "tripduration               int64\n",
      "starttime                  datetime64[ns]\n",
      "stoptime                   datetime64[ns]\n",
      "start station id           int64\n",
      "start station name         object\n",
      "start station latitude     float64\n",
      "start station longitude    float64\n",
      "end station id             int64\n",
      "end station name           object\n",
      "end station latitude       float64\n",
      "end station longitude      float64\n",
      "bikeid                     int64\n",
      "usertype                   category\n",
      "birth year                 float64\n",
      "gender                     int64\n",
      "dtypes: category(1), datetime64[ns](2), float64(5), int64(5), object(2)\n",
      "memory usage: 1.1+ GB\n",
      "None\n",
      "       tripduration  start station id  start station latitude  \\\n",
      "count  9.964965e+06      9.964965e+06            9.964965e+06   \n",
      "mean   9.771970e+02      6.374628e+02            4.073601e+01   \n",
      "std    7.778323e+03      7.639120e+02            2.056578e-02   \n",
      "min    6.000000e+01      7.200000e+01            4.064677e+01   \n",
      "25%    3.890000e+02      3.150000e+02            4.072182e+01   \n",
      "50%    6.310000e+02      4.330000e+02            4.073705e+01   \n",
      "75%    1.053000e+03      5.030000e+02            4.075128e+01   \n",
      "max    5.864661e+06      3.244000e+03            4.078721e+01   \n",
      "\n",
      "       start station longitude  end station id  end station latitude  \\\n",
      "count             9.964965e+06    9.964965e+06          9.964965e+06   \n",
      "mean             -7.398930e+01    6.293671e+02          4.073572e+01   \n",
      "std               1.416935e-02    7.530595e+02          2.423476e-02   \n",
      "min              -7.401713e+01    7.200000e+01          0.000000e+00   \n",
      "25%              -7.399932e+01    3.140000e+02          4.072165e+01   \n",
      "50%              -7.399009e+01    4.300000e+02          4.073653e+01   \n",
      "75%              -7.398093e+01    5.010000e+02          4.075097e+01   \n",
      "max              -7.392989e+01    3.244000e+03          4.078721e+01   \n",
      "\n",
      "       end station longitude        bikeid    birth year        gender  \n",
      "count           9.964965e+06  9.964965e+06  8.636937e+06  9.964965e+06  \n",
      "mean           -7.398946e+01  1.955870e+04  1.976603e+03  1.068889e+00  \n",
      "std             2.738934e-02  2.889402e+03  1.156598e+01  5.770985e-01  \n",
      "min            -7.405044e+01  1.452900e+04  1.885000e+03  0.000000e+00  \n",
      "25%            -7.399973e+01  1.704900e+04  1.969000e+03  1.000000e+00  \n",
      "50%            -7.399021e+01  1.952800e+04  1.979000e+03  1.000000e+00  \n",
      "75%            -7.398130e+01  2.223900e+04  1.986000e+03  1.000000e+00  \n",
      "max             0.000000e+00  2.477300e+04  2.000000e+03  2.000000e+00  \n"
     ]
    }
   ],
   "source": [
    "print(bike_trip_df1.info())\n",
    "print(bike_trip_df1.describe())"
   ]
  },
  {
   "cell_type": "code",
   "execution_count": 5,
   "metadata": {},
   "outputs": [],
   "source": [
    "#write a conditional to check for string to datetime formatting\n",
    "bike_trip_df2 = pd.DataFrame()\n",
    "for dt in batch2:\n",
    "    df = pd.read_csv('https://s3.amazonaws.com/tripdata/'+str(dt.year)+str(dt.month).zfill(2)+'-citibike-tripdata.zip', compression='zip', header=0, sep=',', quotechar='\"')\n",
    "    df.columns = ['tripduration', 'starttime', 'stoptime', 'start station id',\n",
    "           'start station name', 'start station latitude',\n",
    "           'start station longitude', 'end station id', 'end station name',\n",
    "           'end station latitude', 'end station longitude', 'bikeid', 'usertype',\n",
    "           'birth year', 'gender']  \n",
    "#     df['starttime'] = df['starttime'].apply(lambda x: x + \":00\" if (x[-3]==\":\") & (x[-6]!=\":\") else x)\n",
    "#     df['stoptime'] = df['stoptime'].apply(lambda x: x + \":00\" if (x[-3]==\":\") & (x[-6]!=\":\") else x)\n",
    "    if df['starttime'][0][4] == '-':\n",
    "        df['starttime'] = pd.to_datetime(df['starttime'], format = '%Y-%m-%d %H:%M:%S')\n",
    "        df['stoptime'] = pd.to_datetime(df['stoptime'], format = '%Y-%m-%d %H:%M:%S')\n",
    "    else:\n",
    "        df['starttime'] = pd.to_datetime(df['starttime'], format = '%m/%d/%Y %H:%M:%S')\n",
    "        df['stoptime'] = pd.to_datetime(df['stoptime'], format = '%m/%d/%Y %H:%M:%S')\n",
    "    df['usertype'] = df['usertype'].astype('category')\n",
    "    bike_trip_df2 = bike_trip_df2.append(df)"
   ]
  },
  {
   "cell_type": "code",
   "execution_count": 6,
   "metadata": {},
   "outputs": [
    {
     "name": "stdout",
     "output_type": "stream",
     "text": [
      "<class 'pandas.core.frame.DataFrame'>\n",
      "Int64Index: 13336177 entries, 0 to 812191\n",
      "Data columns (total 15 columns):\n",
      "tripduration               int64\n",
      "starttime                  datetime64[ns]\n",
      "stoptime                   datetime64[ns]\n",
      "start station id           int64\n",
      "start station name         object\n",
      "start station latitude     float64\n",
      "start station longitude    float64\n",
      "end station id             int64\n",
      "end station name           object\n",
      "end station latitude       float64\n",
      "end station longitude      float64\n",
      "bikeid                     int64\n",
      "usertype                   category\n",
      "birth year                 float64\n",
      "gender                     int64\n",
      "dtypes: category(1), datetime64[ns](2), float64(5), int64(5), object(2)\n",
      "memory usage: 1.5+ GB\n",
      "None\n"
     ]
    }
   ],
   "source": [
    "print(bike_trip_df2.info())"
   ]
  },
  {
   "cell_type": "code",
   "execution_count": 7,
   "metadata": {},
   "outputs": [],
   "source": [
    "relevant_datetimes = []\n",
    "latest = datetime.date(2018, 1, 1)\n",
    "current = datetime.date(2017, 1, 1)    \n",
    "\n",
    "while current <= latest:\n",
    "    relevant_datetimes.append(current)\n",
    "    current += relativedelta(months=1)\n",
    "\n",
    "#break up list of csvs into two for easier processing\n",
    "batch3 = relevant_datetimes[:int(len(relevant_datetimes)/2)]\n",
    "batch4 = relevant_datetimes[int(len(relevant_datetimes)/2):]\n",
    "\n",
    "bike_trip_df3 = pd.DataFrame()\n",
    "\n",
    "for dt in batch3:\n",
    "    df = pd.read_csv('https://s3.amazonaws.com/tripdata/'+str(dt.year)+str(dt.month).zfill(2)+'-citibike-tripdata.csv.zip', compression='zip', header=0, sep=',', quotechar='\"')\n",
    "    df.columns = ['tripduration', 'starttime', 'stoptime', 'start station id',\n",
    "       'start station name', 'start station latitude',\n",
    "       'start station longitude', 'end station id', 'end station name',\n",
    "       'end station latitude', 'end station longitude', 'bikeid', 'usertype',\n",
    "       'birth year', 'gender']\n",
    "    df['starttime'] = df['starttime'].apply(lambda x: x + \":00\" if (x[-3]==\":\") & (x[-6]!=\":\") else x)\n",
    "    df['stoptime'] = df['stoptime'].apply(lambda x: x + \":00\" if (x[-3]==\":\") & (x[-6]!=\":\") else x)\n",
    "    if df['starttime'][0][4] == '-':\n",
    "        df['starttime'] = pd.to_datetime(df['starttime'], format = '%Y-%m-%d %H:%M:%S')\n",
    "        df['stoptime'] = pd.to_datetime(df['stoptime'], format = '%Y-%m-%d %H:%M:%S')\n",
    "    else:\n",
    "        df['starttime'] = pd.to_datetime(df['starttime'], format = '%m/%d/%Y %H:%M:%S')\n",
    "        df['stoptime'] = pd.to_datetime(df['stoptime'], format = '%m/%d/%Y %H:%M:%S')\n",
    "    df['usertype'] = df['usertype'].astype('category')\n",
    "    bike_trip_df3 = bike_trip_df3.append(df)"
   ]
  },
  {
   "cell_type": "code",
   "execution_count": 8,
   "metadata": {},
   "outputs": [],
   "source": [
    "bike_trip_df4 = pd.DataFrame()\n",
    "for dt in batch4:\n",
    "    df = pd.read_csv('https://s3.amazonaws.com/tripdata/'+str(dt.year)+str(dt.month).zfill(2)+'-citibike-tripdata.csv.zip', compression='zip', header=0, sep=',', quotechar='\"')\n",
    "    df.columns = ['tripduration', 'starttime', 'stoptime', 'start station id',\n",
    "       'start station name', 'start station latitude',\n",
    "       'start station longitude', 'end station id', 'end station name',\n",
    "       'end station latitude', 'end station longitude', 'bikeid', 'usertype',\n",
    "       'birth year', 'gender']\n",
    "    df['starttime'] = df['starttime'].apply(lambda x: x + \":00\" if (x[-3]==\":\") & (x[-6]!=\":\") else x)\n",
    "    df['stoptime'] = df['stoptime'].apply(lambda x: x + \":00\" if (x[-3]==\":\") & (x[-6]!=\":\") else x)\n",
    "    if df['starttime'][0][4] == '-':\n",
    "        df['starttime'] = pd.to_datetime(df['starttime'], format = '%Y-%m-%d %H:%M:%S')\n",
    "        df['stoptime'] = pd.to_datetime(df['stoptime'], format = '%Y-%m-%d %H:%M:%S')\n",
    "    else:\n",
    "        df['starttime'] = pd.to_datetime(df['starttime'], format = '%m/%d/%Y %H:%M:%S')\n",
    "        df['stoptime'] = pd.to_datetime(df['stoptime'], format = '%m/%d/%Y %H:%M:%S')\n",
    "    df['usertype'] = df['usertype'].astype('category')\n",
    "    bike_trip_df4 = bike_trip_df4.append(df)"
   ]
  },
  {
   "cell_type": "code",
   "execution_count": 9,
   "metadata": {},
   "outputs": [],
   "source": [
    "bike_trip_df = pd.concat([bike_trip_df1,bike_trip_df2,bike_trip_df3,bike_trip_df4])"
   ]
  },
  {
   "cell_type": "code",
   "execution_count": 10,
   "metadata": {},
   "outputs": [
    {
     "name": "stdout",
     "output_type": "stream",
     "text": [
      "<class 'pandas.core.frame.DataFrame'>\n",
      "Int64Index: 40384783 entries, 0 to 718983\n",
      "Data columns (total 15 columns):\n",
      "tripduration               int64\n",
      "starttime                  datetime64[ns]\n",
      "stoptime                   datetime64[ns]\n",
      "start station id           int64\n",
      "start station name         object\n",
      "start station latitude     float64\n",
      "start station longitude    float64\n",
      "end station id             int64\n",
      "end station name           object\n",
      "end station latitude       float64\n",
      "end station longitude      float64\n",
      "bikeid                     int64\n",
      "usertype                   category\n",
      "birth year                 float64\n",
      "gender                     int64\n",
      "dtypes: category(1), datetime64[ns](2), float64(5), int64(5), object(2)\n",
      "memory usage: 4.6+ GB\n"
     ]
    }
   ],
   "source": [
    "bike_trip_df.info()"
   ]
  },
  {
   "cell_type": "code",
   "execution_count": 12,
   "metadata": {},
   "outputs": [
    {
     "data": {
      "image/png": "[encoded data removed]",
      "text/plain": [
       "<matplotlib.figure.Figure at 0x1a1a589128>"
      ]
     },
     "metadata": {},
     "output_type": "display_data"
    }
   ],
   "source": [
    "bike_trip_df['tripduration'].plot(kind='hist', rot=70, logy=True)\n",
    "plt.show()\n",
    "# bike_trip_df['tripduration'].sort_values()\n",
    "# station_availability_df = station_availability_df[station_availability_df.avail_bikes <= 100]\n",
    "# station_availability_df['avail_bikes'].plot(kind='hist', rot=70, logy=True)\n",
    "# plt.show()"
   ]
  }
 ],
 "metadata": {
  "kernelspec": {
   "display_name": "Python 3",
   "language": "python",
   "name": "python3"
  },
  "language_info": {
   "codemirror_mode": {
    "name": "ipython",
    "version": 3
   },
   "file_extension": ".py",
   "mimetype": "text/x-python",
   "name": "python",
   "nbconvert_exporter": "python",
   "pygments_lexer": "ipython3",
   "version": "3.6.4"
  }
 },
 "nbformat": 4,
 "nbformat_minor": 2
}
