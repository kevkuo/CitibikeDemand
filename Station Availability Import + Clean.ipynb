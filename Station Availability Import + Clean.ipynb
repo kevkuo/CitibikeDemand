{
 "cells": [
  {
   "cell_type": "markdown",
   "metadata": {},
   "source": [
    "# Importing and Tidying Data"
   ]
  },
  {
   "cell_type": "markdown",
   "metadata": {},
   "source": [
    "bikeshare_nyc_raw.csv:\n",
    "* dock_id: official dock id provided by Citi Bike\n",
    "* dock_name: official dock name provided by Citi Bike\n",
    "* date: year-month-day format\n",
    "* hour: hour of day (am/pm is determined by ‘pm’ variable)\n",
    "* minute: minute of hour\n",
    "* pm: 0–am 1–pm\n",
    "* avail_bikes: number of available bikes\n",
    "* avail_docks: number of available (empty) docks\n",
    "* tot_docks: number of functioning (online) docks\n",
    "* _lat: degrees latitude of station\n",
    "* _long: degrees longitude of station\n",
    "\n",
    "New properties\n",
    "* statusValue: \"Not In Service\",\n",
    "* statusKey: 3,\n",
    "* stAddress1: \"Pitt St & Stanton St\",\n",
    "* stAddress2: \"\",\n",
    "* city: \"\",\n",
    "* postalCode: \"\",\n",
    "* location: \"\",\n",
    "* altitude: \"\",\n",
    "* testStation: false,\n",
    "* lastCommunicationTime: \"2018-03-16 04:17:02 AM\",\n",
    "* landMark: \"\""
   ]
  },
  {
   "cell_type": "code",
   "execution_count": 22,
   "metadata": {},
   "outputs": [],
   "source": [
    "import os\n",
    "import pandas as pd\n",
    "import warnings\n",
    "warnings.filterwarnings('ignore')"
   ]
  },
  {
   "cell_type": "code",
   "execution_count": 23,
   "metadata": {},
   "outputs": [],
   "source": [
    "#hacky method of getting folder names and breaking folders containing CSVs into four groups\n",
    "pathName1 = os.getcwd() + '/AvailabilityData'\n",
    "pathName2 = os.getcwd() + '/AvailabilityData2'\n",
    "folderNames1 = os.listdir(pathName1) \n",
    "folderNames2 = os.listdir(pathName2)\n",
    "folderBatch1 = folderNames1[1:int(len(folderNames1)/2)]\n",
    "folderBatch2 = folderNames1[int(len(folderNames1)/2):]\n",
    "folderBatch3 = folderNames2[1:int(len(folderNames2)/2)]\n",
    "folderBatch4 = folderNames2[int(len(folderNames2)/2):]\n",
    "\n",
    "#function that takes folder groups and takes their respective CSVs for combining, cleaning and setting datatypes\n",
    "def importAndCleanData(pathName, folderBatch):\n",
    "    # loop through each folder batches to append csv data to a dataframe (even the dirty data, coerce dtype errors later)\n",
    "    dock_availability_df = pd.DataFrame()\n",
    "    for folder in folderBatch:\n",
    "        dock_availability_df = dock_availability_df.append(pd.read_csv(pathName+'/'+ folder +'/bikeshare_nyc_raw.csv',sep='\\t',error_bad_lines = False\n",
    "#                               ,warn_bad_lines=False\n",
    "                             ))\n",
    "    \n",
    "\n",
    "    #create list of columns created by ignoring bad line errors and name it dirty_columns\n",
    "    clean_columns = ['dock_id','dock_name','date','hour','minute','pm','avail_bikes','avail_docks','tot_docks','_lat','_long', 'in_service', 'status_key']\n",
    "    dirty_columns = [c for c in dock_availability_df.columns if c not in clean_columns]\n",
    "\n",
    "    #delete the rows that have values for the dirty columns and delete the dirty columns\n",
    "    for column in dirty_columns:\n",
    "#         dock_availability_df = dock_availability_df.drop(dock_availability_df[column].notnull())\n",
    "        dock_availability_df = dock_availability_df.drop(column, axis=1)\n",
    "\n",
    "    #convert columns to correct dtypes -decrease memory usage- and coerce errors\n",
    "    numeric_columns = ['dock_id','hour','minute','avail_bikes','avail_docks','tot_docks','_lat','_long']\n",
    "    category_columns = ['pm','in_service', 'status_key']\n",
    "    dock_availability_df['date'] = pd.to_datetime(dock_availability_df['date'], format = '%y-%m-%d')\n",
    "\n",
    "    for column in numeric_columns:\n",
    "        dock_availability_df[column] = pd.to_numeric(dock_availability_df[column], errors = 'coerce')\n",
    "        \n",
    "    for column in category_columns:\n",
    "        dock_availability_df[column] = dock_availability_df[column].astype('category')\n",
    "\n",
    "    #drop rows with NaNs\n",
    "    dock_availability_df = dock_availability_df.dropna()\n",
    "\n",
    "    return dock_availability_df"
   ]
  },
  {
   "cell_type": "code",
   "execution_count": 24,
   "metadata": {},
   "outputs": [
    {
     "name": "stderr",
     "output_type": "stream",
     "text": [
      "b'Skipping line 890470: expected 14 fields, saw 26090\\n'\n",
      "b'Skipping line 919921: expected 14 fields, saw 27122\\n'\n",
      "b'Skipping line 1130607: expected 14 fields, saw 494\\nSkipping line 1130611: expected 14 fields, saw 11990\\n'\n"
     ]
    },
    {
     "data": {
      "text/html": [
       "<div>\n",
       "<style scoped>\n",
       "    .dataframe tbody tr th:only-of-type {\n",
       "        vertical-align: middle;\n",
       "    }\n",
       "\n",
       "    .dataframe tbody tr th {\n",
       "        vertical-align: top;\n",
       "    }\n",
       "\n",
       "    .dataframe thead th {\n",
       "        text-align: right;\n",
       "    }\n",
       "</style>\n",
       "<table border=\"1\" class=\"dataframe\">\n",
       "  <thead>\n",
       "    <tr style=\"text-align: right;\">\n",
       "      <th></th>\n",
       "      <th>_lat</th>\n",
       "      <th>_long</th>\n",
       "      <th>avail_bikes</th>\n",
       "      <th>avail_docks</th>\n",
       "      <th>date</th>\n",
       "      <th>dock_id</th>\n",
       "      <th>dock_name</th>\n",
       "      <th>hour</th>\n",
       "      <th>in_service</th>\n",
       "      <th>minute</th>\n",
       "      <th>pm</th>\n",
       "      <th>status_key</th>\n",
       "      <th>tot_docks</th>\n",
       "    </tr>\n",
       "  </thead>\n",
       "  <tbody>\n",
       "    <tr>\n",
       "      <th>0</th>\n",
       "      <td>40.767272</td>\n",
       "      <td>-73.993929</td>\n",
       "      <td>8.0</td>\n",
       "      <td>31.0</td>\n",
       "      <td>2015-03-01</td>\n",
       "      <td>72.0</td>\n",
       "      <td>W 52 St &amp; 11 Ave</td>\n",
       "      <td>1</td>\n",
       "      <td>1</td>\n",
       "      <td>6</td>\n",
       "      <td>0</td>\n",
       "      <td>1</td>\n",
       "      <td>39.0</td>\n",
       "    </tr>\n",
       "    <tr>\n",
       "      <th>1</th>\n",
       "      <td>40.767272</td>\n",
       "      <td>-73.993929</td>\n",
       "      <td>8.0</td>\n",
       "      <td>31.0</td>\n",
       "      <td>2015-03-01</td>\n",
       "      <td>72.0</td>\n",
       "      <td>W 52 St &amp; 11 Ave</td>\n",
       "      <td>1</td>\n",
       "      <td>1</td>\n",
       "      <td>16</td>\n",
       "      <td>0</td>\n",
       "      <td>1</td>\n",
       "      <td>39.0</td>\n",
       "    </tr>\n",
       "    <tr>\n",
       "      <th>2</th>\n",
       "      <td>40.767272</td>\n",
       "      <td>-73.993929</td>\n",
       "      <td>8.0</td>\n",
       "      <td>30.0</td>\n",
       "      <td>2015-03-01</td>\n",
       "      <td>72.0</td>\n",
       "      <td>W 52 St &amp; 11 Ave</td>\n",
       "      <td>1</td>\n",
       "      <td>1</td>\n",
       "      <td>25</td>\n",
       "      <td>0</td>\n",
       "      <td>1</td>\n",
       "      <td>38.0</td>\n",
       "    </tr>\n",
       "    <tr>\n",
       "      <th>3</th>\n",
       "      <td>40.767272</td>\n",
       "      <td>-73.993929</td>\n",
       "      <td>8.0</td>\n",
       "      <td>30.0</td>\n",
       "      <td>2015-03-01</td>\n",
       "      <td>72.0</td>\n",
       "      <td>W 52 St &amp; 11 Ave</td>\n",
       "      <td>1</td>\n",
       "      <td>1</td>\n",
       "      <td>35</td>\n",
       "      <td>0</td>\n",
       "      <td>1</td>\n",
       "      <td>38.0</td>\n",
       "    </tr>\n",
       "    <tr>\n",
       "      <th>4</th>\n",
       "      <td>40.767272</td>\n",
       "      <td>-73.993929</td>\n",
       "      <td>8.0</td>\n",
       "      <td>30.0</td>\n",
       "      <td>2015-03-01</td>\n",
       "      <td>72.0</td>\n",
       "      <td>W 52 St &amp; 11 Ave</td>\n",
       "      <td>1</td>\n",
       "      <td>1</td>\n",
       "      <td>45</td>\n",
       "      <td>0</td>\n",
       "      <td>1</td>\n",
       "      <td>38.0</td>\n",
       "    </tr>\n",
       "  </tbody>\n",
       "</table>\n",
       "</div>"
      ],
      "text/plain": [
       "        _lat      _long  avail_bikes  avail_docks       date  dock_id  \\\n",
       "0  40.767272 -73.993929          8.0         31.0 2015-03-01     72.0   \n",
       "1  40.767272 -73.993929          8.0         31.0 2015-03-01     72.0   \n",
       "2  40.767272 -73.993929          8.0         30.0 2015-03-01     72.0   \n",
       "3  40.767272 -73.993929          8.0         30.0 2015-03-01     72.0   \n",
       "4  40.767272 -73.993929          8.0         30.0 2015-03-01     72.0   \n",
       "\n",
       "          dock_name  hour in_service  minute pm status_key  tot_docks  \n",
       "0  W 52 St & 11 Ave     1          1       6  0          1       39.0  \n",
       "1  W 52 St & 11 Ave     1          1      16  0          1       39.0  \n",
       "2  W 52 St & 11 Ave     1          1      25  0          1       38.0  \n",
       "3  W 52 St & 11 Ave     1          1      35  0          1       38.0  \n",
       "4  W 52 St & 11 Ave     1          1      45  0          1       38.0  "
      ]
     },
     "execution_count": 24,
     "metadata": {},
     "output_type": "execute_result"
    }
   ],
   "source": [
    "df1 = importAndCleanData(pathName1, folderBatch1)\n",
    "df1.head()"
   ]
  },
  {
   "cell_type": "code",
   "execution_count": 25,
   "metadata": {},
   "outputs": [
    {
     "name": "stderr",
     "output_type": "stream",
     "text": [
      "b'Skipping line 1121989: expected 15 fields, saw 33231\\n'\n",
      "b'Skipping line 1198732: expected 16 fields, saw 35524\\n'\n",
      "b'Skipping line 596959: expected 14 fields, saw 26\\n'\n",
      "b'Skipping line 1529828: expected 14 fields, saw 26\\n'\n"
     ]
    },
    {
     "data": {
      "text/html": [
       "<div>\n",
       "<style scoped>\n",
       "    .dataframe tbody tr th:only-of-type {\n",
       "        vertical-align: middle;\n",
       "    }\n",
       "\n",
       "    .dataframe tbody tr th {\n",
       "        vertical-align: top;\n",
       "    }\n",
       "\n",
       "    .dataframe thead th {\n",
       "        text-align: right;\n",
       "    }\n",
       "</style>\n",
       "<table border=\"1\" class=\"dataframe\">\n",
       "  <thead>\n",
       "    <tr style=\"text-align: right;\">\n",
       "      <th></th>\n",
       "      <th>_lat</th>\n",
       "      <th>_long</th>\n",
       "      <th>avail_bikes</th>\n",
       "      <th>avail_docks</th>\n",
       "      <th>date</th>\n",
       "      <th>dock_id</th>\n",
       "      <th>dock_name</th>\n",
       "      <th>hour</th>\n",
       "      <th>in_service</th>\n",
       "      <th>minute</th>\n",
       "      <th>pm</th>\n",
       "      <th>status_key</th>\n",
       "      <th>tot_docks</th>\n",
       "    </tr>\n",
       "  </thead>\n",
       "  <tbody>\n",
       "    <tr>\n",
       "      <th>0</th>\n",
       "      <td>40.767272</td>\n",
       "      <td>-73.993929</td>\n",
       "      <td>15.0</td>\n",
       "      <td>24.0</td>\n",
       "      <td>2015-10-01</td>\n",
       "      <td>72</td>\n",
       "      <td>W 52 St &amp; 11 Ave</td>\n",
       "      <td>1</td>\n",
       "      <td>1.0</td>\n",
       "      <td>30</td>\n",
       "      <td>0</td>\n",
       "      <td>1.0</td>\n",
       "      <td>39.0</td>\n",
       "    </tr>\n",
       "    <tr>\n",
       "      <th>1</th>\n",
       "      <td>40.767272</td>\n",
       "      <td>-73.993929</td>\n",
       "      <td>16.0</td>\n",
       "      <td>23.0</td>\n",
       "      <td>2015-10-01</td>\n",
       "      <td>72</td>\n",
       "      <td>W 52 St &amp; 11 Ave</td>\n",
       "      <td>2</td>\n",
       "      <td>1.0</td>\n",
       "      <td>30</td>\n",
       "      <td>0</td>\n",
       "      <td>1.0</td>\n",
       "      <td>39.0</td>\n",
       "    </tr>\n",
       "    <tr>\n",
       "      <th>2</th>\n",
       "      <td>40.767272</td>\n",
       "      <td>-73.993929</td>\n",
       "      <td>16.0</td>\n",
       "      <td>23.0</td>\n",
       "      <td>2015-10-01</td>\n",
       "      <td>72</td>\n",
       "      <td>W 52 St &amp; 11 Ave</td>\n",
       "      <td>2</td>\n",
       "      <td>1.0</td>\n",
       "      <td>42</td>\n",
       "      <td>0</td>\n",
       "      <td>1.0</td>\n",
       "      <td>39.0</td>\n",
       "    </tr>\n",
       "    <tr>\n",
       "      <th>3</th>\n",
       "      <td>40.767272</td>\n",
       "      <td>-73.993929</td>\n",
       "      <td>16.0</td>\n",
       "      <td>23.0</td>\n",
       "      <td>2015-10-01</td>\n",
       "      <td>72</td>\n",
       "      <td>W 52 St &amp; 11 Ave</td>\n",
       "      <td>3</td>\n",
       "      <td>1.0</td>\n",
       "      <td>14</td>\n",
       "      <td>0</td>\n",
       "      <td>1.0</td>\n",
       "      <td>39.0</td>\n",
       "    </tr>\n",
       "    <tr>\n",
       "      <th>4</th>\n",
       "      <td>40.767272</td>\n",
       "      <td>-73.993929</td>\n",
       "      <td>16.0</td>\n",
       "      <td>23.0</td>\n",
       "      <td>2015-10-01</td>\n",
       "      <td>72</td>\n",
       "      <td>W 52 St &amp; 11 Ave</td>\n",
       "      <td>3</td>\n",
       "      <td>1.0</td>\n",
       "      <td>20</td>\n",
       "      <td>0</td>\n",
       "      <td>1.0</td>\n",
       "      <td>39.0</td>\n",
       "    </tr>\n",
       "  </tbody>\n",
       "</table>\n",
       "</div>"
      ],
      "text/plain": [
       "        _lat      _long  avail_bikes  avail_docks       date  dock_id  \\\n",
       "0  40.767272 -73.993929         15.0         24.0 2015-10-01       72   \n",
       "1  40.767272 -73.993929         16.0         23.0 2015-10-01       72   \n",
       "2  40.767272 -73.993929         16.0         23.0 2015-10-01       72   \n",
       "3  40.767272 -73.993929         16.0         23.0 2015-10-01       72   \n",
       "4  40.767272 -73.993929         16.0         23.0 2015-10-01       72   \n",
       "\n",
       "          dock_name  hour in_service  minute pm status_key  tot_docks  \n",
       "0  W 52 St & 11 Ave     1        1.0      30  0        1.0       39.0  \n",
       "1  W 52 St & 11 Ave     2        1.0      30  0        1.0       39.0  \n",
       "2  W 52 St & 11 Ave     2        1.0      42  0        1.0       39.0  \n",
       "3  W 52 St & 11 Ave     3        1.0      14  0        1.0       39.0  \n",
       "4  W 52 St & 11 Ave     3        1.0      20  0        1.0       39.0  "
      ]
     },
     "execution_count": 25,
     "metadata": {},
     "output_type": "execute_result"
    }
   ],
   "source": [
    "df2 = importAndCleanData(pathName1, folderBatch2)\n",
    "\"\"\"'2016-04' dataframe has messed up data for \"Verona Pl & Fulton St\" & \"PIT - Pitt St Yard\" because of \n",
    "new properties introduced in the same dataset\"\"\"\n",
    "df2.head()"
   ]
  },
  {
   "cell_type": "code",
   "execution_count": 26,
   "metadata": {},
   "outputs": [
    {
     "name": "stderr",
     "output_type": "stream",
     "text": [
      "b'Skipping line 646269: expected 14 fields, saw 12914\\n'\n",
      "b'Skipping line 293035: expected 14 fields, saw 6962\\n'\n",
      "b'Skipping line 275480: expected 14 fields, saw 2786\\nSkipping line 275483: expected 14 fields, saw 26\\n'\n"
     ]
    },
    {
     "data": {
      "text/html": [
       "<div>\n",
       "<style scoped>\n",
       "    .dataframe tbody tr th:only-of-type {\n",
       "        vertical-align: middle;\n",
       "    }\n",
       "\n",
       "    .dataframe tbody tr th {\n",
       "        vertical-align: top;\n",
       "    }\n",
       "\n",
       "    .dataframe thead th {\n",
       "        text-align: right;\n",
       "    }\n",
       "</style>\n",
       "<table border=\"1\" class=\"dataframe\">\n",
       "  <thead>\n",
       "    <tr style=\"text-align: right;\">\n",
       "      <th></th>\n",
       "      <th>_lat</th>\n",
       "      <th>_long</th>\n",
       "      <th>avail_bikes</th>\n",
       "      <th>avail_docks</th>\n",
       "      <th>date</th>\n",
       "      <th>dock_id</th>\n",
       "      <th>dock_name</th>\n",
       "      <th>hour</th>\n",
       "      <th>in_service</th>\n",
       "      <th>minute</th>\n",
       "      <th>pm</th>\n",
       "      <th>status_key</th>\n",
       "      <th>tot_docks</th>\n",
       "    </tr>\n",
       "  </thead>\n",
       "  <tbody>\n",
       "    <tr>\n",
       "      <th>0</th>\n",
       "      <td>40.767272</td>\n",
       "      <td>-73.993929</td>\n",
       "      <td>10</td>\n",
       "      <td>28</td>\n",
       "      <td>2016-06-01</td>\n",
       "      <td>72</td>\n",
       "      <td>W 52 St &amp; 11 Ave</td>\n",
       "      <td>7</td>\n",
       "      <td>1</td>\n",
       "      <td>25</td>\n",
       "      <td>1</td>\n",
       "      <td>1</td>\n",
       "      <td>39</td>\n",
       "    </tr>\n",
       "    <tr>\n",
       "      <th>1</th>\n",
       "      <td>40.767272</td>\n",
       "      <td>-73.993929</td>\n",
       "      <td>11</td>\n",
       "      <td>27</td>\n",
       "      <td>2016-06-01</td>\n",
       "      <td>72</td>\n",
       "      <td>W 52 St &amp; 11 Ave</td>\n",
       "      <td>7</td>\n",
       "      <td>1</td>\n",
       "      <td>34</td>\n",
       "      <td>1</td>\n",
       "      <td>1</td>\n",
       "      <td>39</td>\n",
       "    </tr>\n",
       "    <tr>\n",
       "      <th>2</th>\n",
       "      <td>40.767272</td>\n",
       "      <td>-73.993929</td>\n",
       "      <td>12</td>\n",
       "      <td>26</td>\n",
       "      <td>2016-06-01</td>\n",
       "      <td>72</td>\n",
       "      <td>W 52 St &amp; 11 Ave</td>\n",
       "      <td>7</td>\n",
       "      <td>1</td>\n",
       "      <td>51</td>\n",
       "      <td>1</td>\n",
       "      <td>1</td>\n",
       "      <td>39</td>\n",
       "    </tr>\n",
       "    <tr>\n",
       "      <th>3</th>\n",
       "      <td>40.767272</td>\n",
       "      <td>-73.993929</td>\n",
       "      <td>12</td>\n",
       "      <td>26</td>\n",
       "      <td>2016-06-01</td>\n",
       "      <td>72</td>\n",
       "      <td>W 52 St &amp; 11 Ave</td>\n",
       "      <td>8</td>\n",
       "      <td>1</td>\n",
       "      <td>9</td>\n",
       "      <td>1</td>\n",
       "      <td>1</td>\n",
       "      <td>39</td>\n",
       "    </tr>\n",
       "    <tr>\n",
       "      <th>4</th>\n",
       "      <td>40.767272</td>\n",
       "      <td>-73.993929</td>\n",
       "      <td>17</td>\n",
       "      <td>21</td>\n",
       "      <td>2016-06-01</td>\n",
       "      <td>72</td>\n",
       "      <td>W 52 St &amp; 11 Ave</td>\n",
       "      <td>8</td>\n",
       "      <td>1</td>\n",
       "      <td>26</td>\n",
       "      <td>1</td>\n",
       "      <td>1</td>\n",
       "      <td>39</td>\n",
       "    </tr>\n",
       "  </tbody>\n",
       "</table>\n",
       "</div>"
      ],
      "text/plain": [
       "        _lat      _long  avail_bikes  avail_docks       date  dock_id  \\\n",
       "0  40.767272 -73.993929           10           28 2016-06-01       72   \n",
       "1  40.767272 -73.993929           11           27 2016-06-01       72   \n",
       "2  40.767272 -73.993929           12           26 2016-06-01       72   \n",
       "3  40.767272 -73.993929           12           26 2016-06-01       72   \n",
       "4  40.767272 -73.993929           17           21 2016-06-01       72   \n",
       "\n",
       "          dock_name  hour in_service  minute pm status_key  tot_docks  \n",
       "0  W 52 St & 11 Ave     7          1      25  1          1         39  \n",
       "1  W 52 St & 11 Ave     7          1      34  1          1         39  \n",
       "2  W 52 St & 11 Ave     7          1      51  1          1         39  \n",
       "3  W 52 St & 11 Ave     8          1       9  1          1         39  \n",
       "4  W 52 St & 11 Ave     8          1      26  1          1         39  "
      ]
     },
     "execution_count": 26,
     "metadata": {},
     "output_type": "execute_result"
    }
   ],
   "source": [
    "df3 = importAndCleanData(pathName2, folderBatch3)\n",
    "df3.head()"
   ]
  },
  {
   "cell_type": "code",
   "execution_count": 27,
   "metadata": {},
   "outputs": [
    {
     "data": {
      "text/html": [
       "<div>\n",
       "<style scoped>\n",
       "    .dataframe tbody tr th:only-of-type {\n",
       "        vertical-align: middle;\n",
       "    }\n",
       "\n",
       "    .dataframe tbody tr th {\n",
       "        vertical-align: top;\n",
       "    }\n",
       "\n",
       "    .dataframe thead th {\n",
       "        text-align: right;\n",
       "    }\n",
       "</style>\n",
       "<table border=\"1\" class=\"dataframe\">\n",
       "  <thead>\n",
       "    <tr style=\"text-align: right;\">\n",
       "      <th></th>\n",
       "      <th>dock_id</th>\n",
       "      <th>dock_name</th>\n",
       "      <th>date</th>\n",
       "      <th>hour</th>\n",
       "      <th>minute</th>\n",
       "      <th>pm</th>\n",
       "      <th>avail_bikes</th>\n",
       "      <th>avail_docks</th>\n",
       "      <th>tot_docks</th>\n",
       "      <th>_lat</th>\n",
       "      <th>_long</th>\n",
       "      <th>in_service</th>\n",
       "      <th>status_key</th>\n",
       "    </tr>\n",
       "  </thead>\n",
       "  <tbody>\n",
       "    <tr>\n",
       "      <th>0</th>\n",
       "      <td>72</td>\n",
       "      <td>W 52 St &amp; 11 Ave</td>\n",
       "      <td>2017-04-01</td>\n",
       "      <td>1</td>\n",
       "      <td>29</td>\n",
       "      <td>0</td>\n",
       "      <td>12</td>\n",
       "      <td>27</td>\n",
       "      <td>39</td>\n",
       "      <td>40.767272</td>\n",
       "      <td>-73.993929</td>\n",
       "      <td>1</td>\n",
       "      <td>1</td>\n",
       "    </tr>\n",
       "    <tr>\n",
       "      <th>1</th>\n",
       "      <td>72</td>\n",
       "      <td>W 52 St &amp; 11 Ave</td>\n",
       "      <td>2017-04-01</td>\n",
       "      <td>2</td>\n",
       "      <td>34</td>\n",
       "      <td>0</td>\n",
       "      <td>12</td>\n",
       "      <td>27</td>\n",
       "      <td>39</td>\n",
       "      <td>40.767272</td>\n",
       "      <td>-73.993929</td>\n",
       "      <td>1</td>\n",
       "      <td>1</td>\n",
       "    </tr>\n",
       "    <tr>\n",
       "      <th>2</th>\n",
       "      <td>72</td>\n",
       "      <td>W 52 St &amp; 11 Ave</td>\n",
       "      <td>2017-04-01</td>\n",
       "      <td>3</td>\n",
       "      <td>42</td>\n",
       "      <td>0</td>\n",
       "      <td>12</td>\n",
       "      <td>27</td>\n",
       "      <td>39</td>\n",
       "      <td>40.767272</td>\n",
       "      <td>-73.993929</td>\n",
       "      <td>1</td>\n",
       "      <td>1</td>\n",
       "    </tr>\n",
       "    <tr>\n",
       "      <th>3</th>\n",
       "      <td>72</td>\n",
       "      <td>W 52 St &amp; 11 Ave</td>\n",
       "      <td>2017-04-01</td>\n",
       "      <td>5</td>\n",
       "      <td>39</td>\n",
       "      <td>0</td>\n",
       "      <td>12</td>\n",
       "      <td>27</td>\n",
       "      <td>39</td>\n",
       "      <td>40.767272</td>\n",
       "      <td>-73.993929</td>\n",
       "      <td>1</td>\n",
       "      <td>1</td>\n",
       "    </tr>\n",
       "    <tr>\n",
       "      <th>4</th>\n",
       "      <td>72</td>\n",
       "      <td>W 52 St &amp; 11 Ave</td>\n",
       "      <td>2017-04-01</td>\n",
       "      <td>8</td>\n",
       "      <td>56</td>\n",
       "      <td>0</td>\n",
       "      <td>8</td>\n",
       "      <td>31</td>\n",
       "      <td>39</td>\n",
       "      <td>40.767272</td>\n",
       "      <td>-73.993929</td>\n",
       "      <td>1</td>\n",
       "      <td>1</td>\n",
       "    </tr>\n",
       "  </tbody>\n",
       "</table>\n",
       "</div>"
      ],
      "text/plain": [
       "   dock_id         dock_name       date  hour  minute pm  avail_bikes  \\\n",
       "0       72  W 52 St & 11 Ave 2017-04-01     1      29  0           12   \n",
       "1       72  W 52 St & 11 Ave 2017-04-01     2      34  0           12   \n",
       "2       72  W 52 St & 11 Ave 2017-04-01     3      42  0           12   \n",
       "3       72  W 52 St & 11 Ave 2017-04-01     5      39  0           12   \n",
       "4       72  W 52 St & 11 Ave 2017-04-01     8      56  0            8   \n",
       "\n",
       "   avail_docks  tot_docks       _lat      _long in_service status_key  \n",
       "0           27         39  40.767272 -73.993929          1          1  \n",
       "1           27         39  40.767272 -73.993929          1          1  \n",
       "2           27         39  40.767272 -73.993929          1          1  \n",
       "3           27         39  40.767272 -73.993929          1          1  \n",
       "4           31         39  40.767272 -73.993929          1          1  "
      ]
     },
     "execution_count": 27,
     "metadata": {},
     "output_type": "execute_result"
    }
   ],
   "source": [
    "df4 = importAndCleanData(pathName2, folderBatch4)\n",
    "df4.head()"
   ]
  },
  {
   "cell_type": "code",
   "execution_count": 28,
   "metadata": {},
   "outputs": [],
   "source": [
    "station_availability_df = pd.concat([df1, df2, df3, df4])"
   ]
  },
  {
   "cell_type": "code",
   "execution_count": 29,
   "metadata": {},
   "outputs": [
    {
     "data": {
      "text/html": [
       "<div>\n",
       "<style scoped>\n",
       "    .dataframe tbody tr th:only-of-type {\n",
       "        vertical-align: middle;\n",
       "    }\n",
       "\n",
       "    .dataframe tbody tr th {\n",
       "        vertical-align: top;\n",
       "    }\n",
       "\n",
       "    .dataframe thead th {\n",
       "        text-align: right;\n",
       "    }\n",
       "</style>\n",
       "<table border=\"1\" class=\"dataframe\">\n",
       "  <thead>\n",
       "    <tr style=\"text-align: right;\">\n",
       "      <th></th>\n",
       "      <th>_lat</th>\n",
       "      <th>_long</th>\n",
       "      <th>avail_bikes</th>\n",
       "      <th>avail_docks</th>\n",
       "      <th>date</th>\n",
       "      <th>dock_id</th>\n",
       "      <th>dock_name</th>\n",
       "      <th>hour</th>\n",
       "      <th>in_service</th>\n",
       "      <th>minute</th>\n",
       "      <th>status_key</th>\n",
       "      <th>tot_docks</th>\n",
       "    </tr>\n",
       "  </thead>\n",
       "  <tbody>\n",
       "    <tr>\n",
       "      <th>0</th>\n",
       "      <td>40.767272</td>\n",
       "      <td>-73.993929</td>\n",
       "      <td>8.0</td>\n",
       "      <td>31.0</td>\n",
       "      <td>2015-03-01</td>\n",
       "      <td>72.0</td>\n",
       "      <td>W 52 St &amp; 11 Ave</td>\n",
       "      <td>1</td>\n",
       "      <td>1.0</td>\n",
       "      <td>6</td>\n",
       "      <td>1</td>\n",
       "      <td>39.0</td>\n",
       "    </tr>\n",
       "    <tr>\n",
       "      <th>1</th>\n",
       "      <td>40.767272</td>\n",
       "      <td>-73.993929</td>\n",
       "      <td>8.0</td>\n",
       "      <td>31.0</td>\n",
       "      <td>2015-03-01</td>\n",
       "      <td>72.0</td>\n",
       "      <td>W 52 St &amp; 11 Ave</td>\n",
       "      <td>1</td>\n",
       "      <td>1.0</td>\n",
       "      <td>16</td>\n",
       "      <td>1</td>\n",
       "      <td>39.0</td>\n",
       "    </tr>\n",
       "    <tr>\n",
       "      <th>2</th>\n",
       "      <td>40.767272</td>\n",
       "      <td>-73.993929</td>\n",
       "      <td>8.0</td>\n",
       "      <td>30.0</td>\n",
       "      <td>2015-03-01</td>\n",
       "      <td>72.0</td>\n",
       "      <td>W 52 St &amp; 11 Ave</td>\n",
       "      <td>1</td>\n",
       "      <td>1.0</td>\n",
       "      <td>25</td>\n",
       "      <td>1</td>\n",
       "      <td>38.0</td>\n",
       "    </tr>\n",
       "    <tr>\n",
       "      <th>3</th>\n",
       "      <td>40.767272</td>\n",
       "      <td>-73.993929</td>\n",
       "      <td>8.0</td>\n",
       "      <td>30.0</td>\n",
       "      <td>2015-03-01</td>\n",
       "      <td>72.0</td>\n",
       "      <td>W 52 St &amp; 11 Ave</td>\n",
       "      <td>1</td>\n",
       "      <td>1.0</td>\n",
       "      <td>35</td>\n",
       "      <td>1</td>\n",
       "      <td>38.0</td>\n",
       "    </tr>\n",
       "    <tr>\n",
       "      <th>4</th>\n",
       "      <td>40.767272</td>\n",
       "      <td>-73.993929</td>\n",
       "      <td>8.0</td>\n",
       "      <td>30.0</td>\n",
       "      <td>2015-03-01</td>\n",
       "      <td>72.0</td>\n",
       "      <td>W 52 St &amp; 11 Ave</td>\n",
       "      <td>1</td>\n",
       "      <td>1.0</td>\n",
       "      <td>45</td>\n",
       "      <td>1</td>\n",
       "      <td>38.0</td>\n",
       "    </tr>\n",
       "  </tbody>\n",
       "</table>\n",
       "</div>"
      ],
      "text/plain": [
       "        _lat      _long  avail_bikes  avail_docks       date  dock_id  \\\n",
       "0  40.767272 -73.993929          8.0         31.0 2015-03-01     72.0   \n",
       "1  40.767272 -73.993929          8.0         31.0 2015-03-01     72.0   \n",
       "2  40.767272 -73.993929          8.0         30.0 2015-03-01     72.0   \n",
       "3  40.767272 -73.993929          8.0         30.0 2015-03-01     72.0   \n",
       "4  40.767272 -73.993929          8.0         30.0 2015-03-01     72.0   \n",
       "\n",
       "          dock_name  hour  in_service  minute status_key  tot_docks  \n",
       "0  W 52 St & 11 Ave     1         1.0       6          1       39.0  \n",
       "1  W 52 St & 11 Ave     1         1.0      16          1       39.0  \n",
       "2  W 52 St & 11 Ave     1         1.0      25          1       38.0  \n",
       "3  W 52 St & 11 Ave     1         1.0      35          1       38.0  \n",
       "4  W 52 St & 11 Ave     1         1.0      45          1       38.0  "
      ]
     },
     "execution_count": 29,
     "metadata": {},
     "output_type": "execute_result"
    }
   ],
   "source": [
    "#transform hour + pm into 24hr\n",
    "station_availability_df.loc[station_availability_df.pm == 1, 'hour'] = station_availability_df.loc[station_availability_df.pm == 1, 'hour'] + 12\n",
    "station_availability_df.loc[(station_availability_df['hour'] == 12),'hour'] = 0\n",
    "station_availability_df.loc[(station_availability_df['hour'] == 24),'hour'] = 12\n",
    "station_availability_df = station_availability_df.drop('pm', axis=1)\n",
    "station_availability_df.head()"
   ]
  },
  {
   "cell_type": "markdown",
   "metadata": {},
   "source": [
    "# Exploring and Cleaning Data"
   ]
  },
  {
   "cell_type": "code",
   "execution_count": 9,
   "metadata": {},
   "outputs": [],
   "source": [
    "# def check_null_or_valid(row_data):\n",
    "#     \"\"\"Function that takes a row of data,\n",
    "#     drops all missing values,\n",
    "#     and checks if all remaining values are greater than or equal to 0\n",
    "#     \"\"\"\n",
    "#     no_na = row_data.dropna()[1:-1]\n",
    "#     numeric = pd.to_numeric(no_na)\n",
    "#     ge0 = numeric >= 0\n",
    "#     return ge0\n",
    "\n",
    "# # Check whether the first column is 'Life expectancy'\n",
    "# assert g1800s.columns[0] == 'Life expectancy'\n",
    "\n",
    "# # Check whether the values in the row are valid\n",
    "# assert g1800s.iloc[:, 1:].apply(check_null_or_valid, axis=1).all().all()\n",
    "\n",
    "# # Check that there is only one instance of each country\n",
    "# assert g1800s['Life expectancy'].value_counts()[0] == 1"
   ]
  },
  {
   "cell_type": "code",
   "execution_count": 10,
   "metadata": {},
   "outputs": [
    {
     "name": "stdout",
     "output_type": "stream",
     "text": [
      "<class 'pandas.core.frame.DataFrame'>\n",
      "Int64Index: 27662626 entries, 0 to 706495\n",
      "Data columns (total 12 columns):\n",
      "_lat           float64\n",
      "_long          float64\n",
      "avail_bikes    float64\n",
      "avail_docks    float64\n",
      "date           datetime64[ns]\n",
      "dock_id        float64\n",
      "dock_name      object\n",
      "hour           int64\n",
      "in_service     float64\n",
      "minute         int64\n",
      "status_key     object\n",
      "tot_docks      float64\n",
      "dtypes: datetime64[ns](1), float64(7), int64(2), object(2)\n",
      "memory usage: 2.7+ GB\n",
      "None\n"
     ]
    }
   ],
   "source": [
    "print(station_availability_df.info())\n",
    "#drop rows with null values in dirty columns: 27662565 records\n",
    "#drop rows with values in dirty columns: 26290342"
   ]
  },
  {
   "cell_type": "code",
   "execution_count": 11,
   "metadata": {},
   "outputs": [
    {
     "name": "stdout",
     "output_type": "stream",
     "text": [
      "               _lat         _long   avail_bikes   avail_docks       dock_id  \\\n",
      "count  2.766263e+07  2.766263e+07  2.766263e+07  2.766263e+07  2.766263e+07   \n",
      "mean   4.072131e+01 -7.397305e+01  1.101348e+01  1.983370e+01  1.379419e+03   \n",
      "std    5.117695e-01  9.249626e-01  1.063233e+01  1.338131e+01  1.338704e+03   \n",
      "min    0.000000e+00 -7.409752e+01  0.000000e+00  0.000000e+00  7.200000e+01   \n",
      "25%    4.070583e+01 -7.399724e+01  2.000000e+00  9.000000e+00  3.400000e+02   \n",
      "50%    4.072491e+01 -7.398409e+01  8.000000e+00  1.900000e+01  4.760000e+02   \n",
      "75%    4.074972e+01 -7.396818e+01  1.700000e+01  2.900000e+01  3.108000e+03   \n",
      "max    4.407427e+02  7.397713e+01  2.260000e+02  6.700000e+01  3.306100e+04   \n",
      "\n",
      "               hour    in_service        minute     tot_docks  \n",
      "count  2.766263e+07  2.766263e+07  2.766263e+07  2.766263e+07  \n",
      "mean   1.161701e+01  9.474849e-01  2.949508e+01  3.177395e+01  \n",
      "std    6.946070e+00  2.230633e-01  1.732305e+01  1.199191e+01  \n",
      "min    0.000000e+00  0.000000e+00  0.000000e+00  0.000000e+00  \n",
      "25%    6.000000e+00  1.000000e+00  1.500000e+01  2.400000e+01  \n",
      "50%    1.200000e+01  1.000000e+00  3.000000e+01  3.100000e+01  \n",
      "75%    1.800000e+01  1.000000e+00  4.500000e+01  3.900000e+01  \n",
      "max    2.300000e+01  1.000000e+00  5.900000e+01  2.727000e+03  \n"
     ]
    }
   ],
   "source": [
    "print(station_availability_df.describe())"
   ]
  },
  {
   "cell_type": "code",
   "execution_count": 12,
   "metadata": {},
   "outputs": [
    {
     "data": {
      "image/png": "[encoded data removed]",
      "text/plain": [
       "<matplotlib.figure.Figure at 0x11746f278>"
      ]
     },
     "metadata": {},
     "output_type": "display_data"
    },
    {
     "data": {
      "image/png": "[encoded data removed]",
      "text/plain": [
       "<matplotlib.figure.Figure at 0x1195f86a0>"
      ]
     },
     "metadata": {},
     "output_type": "display_data"
    }
   ],
   "source": [
    "import matplotlib.pyplot as plt\n",
    "from datetime import datetime\n",
    "import numpy as np\n",
    "%matplotlib inline\n",
    "\n",
    "# get rid of avail_bikes outliers\n",
    "station_availability_df['avail_bikes'].plot(kind='hist', rot=70, logy=True)\n",
    "plt.show()\n",
    "station_availability_df = station_availability_df[station_availability_df.avail_bikes <= 100]\n",
    "station_availability_df['avail_bikes'].plot(kind='hist', rot=70, logy=True)\n",
    "plt.show()"
   ]
  },
  {
   "cell_type": "code",
   "execution_count": 13,
   "metadata": {},
   "outputs": [
    {
     "data": {
      "text/plain": [
       "<matplotlib.axes._subplots.AxesSubplot at 0x11dea56d8>"
      ]
     },
     "execution_count": 13,
     "metadata": {},
     "output_type": "execute_result"
    },
    {
     "data": {
      "image/png": "[encoded data removed]",
      "text/plain": [
       "<matplotlib.figure.Figure at 0x1196cc438>"
      ]
     },
     "metadata": {},
     "output_type": "display_data"
    }
   ],
   "source": [
    "import matplotlib.pyplot as plt\n",
    "from datetime import datetime\n",
    "import numpy as np\n",
    "%matplotlib inline\n",
    "\n",
    "# no avail_docks outliers to get rid of\n",
    "station_availability_df['avail_docks'].plot(kind='hist', rot=70, logy=True)"
   ]
  },
  {
   "cell_type": "code",
   "execution_count": 14,
   "metadata": {},
   "outputs": [
    {
     "data": {
      "image/png": "[encoded data removed]",
      "text/plain": [
       "<matplotlib.figure.Figure at 0x11e0ca0f0>"
      ]
     },
     "metadata": {},
     "output_type": "display_data"
    },
    {
     "data": {
      "image/png": "[encoded data removed]",
      "text/plain": [
       "<matplotlib.figure.Figure at 0x11de90048>"
      ]
     },
     "metadata": {},
     "output_type": "display_data"
    }
   ],
   "source": [
    "# get rid of tot_docks outliers\n",
    "station_availability_df['tot_docks'].plot(kind='hist', rot=70, logy=True)\n",
    "plt.show()\n",
    "station_availability_df = station_availability_df[station_availability_df.tot_docks != 2727]\n",
    "station_availability_df['tot_docks'].plot(kind='hist', rot=70, logy=True)\n",
    "plt.show()"
   ]
  },
  {
   "cell_type": "code",
   "execution_count": 15,
   "metadata": {},
   "outputs": [
    {
     "data": {
      "image/png": "[encoded data removed]",
      "text/plain": [
       "<matplotlib.figure.Figure at 0x11e0d5438>"
      ]
     },
     "metadata": {},
     "output_type": "display_data"
    },
    {
     "data": {
      "image/png": "[encoded data removed]",
      "text/plain": [
       "<matplotlib.figure.Figure at 0x119635320>"
      ]
     },
     "metadata": {},
     "output_type": "display_data"
    }
   ],
   "source": [
    "#get rid of docks without enough data points: more or equal to 1440, as this is how many rows a dock generates a month\n",
    "station_availability_df['dock_id'].plot(kind='hist', logx = True, logy=True)\n",
    "plt.show()\n",
    "station_availability_df = station_availability_df.groupby('dock_id').filter(lambda x: len(x) >= 1440)\n",
    "station_availability_df['dock_id'].plot(kind='hist', logx = True, logy=True)\n",
    "plt.show()"
   ]
  },
  {
   "cell_type": "code",
   "execution_count": 16,
   "metadata": {},
   "outputs": [
    {
     "data": {
      "text/plain": [
       "In Service        26158175\n",
       "Not In Service     1480780\n",
       "Name: status_value, dtype: int64"
      ]
     },
     "execution_count": 16,
     "metadata": {},
     "output_type": "execute_result"
    }
   ],
   "source": [
    "#see data distribution of active/inactive stations\n",
    "station_availability_df.loc[station_availability_df['status_key']==1,'status_value'] = \"In Service\"\n",
    "station_availability_df.loc[station_availability_df['status_key']==3,'status_value'] = \"Not In Service\"\n",
    "station_availability_df.status_value.value_counts()"
   ]
  },
  {
   "cell_type": "code",
   "execution_count": 17,
   "metadata": {},
   "outputs": [],
   "source": [
    "#function for seeing average number of bikes at a dock over the hours of the day, averaged amongst every day\n",
    "def plotAverageAvailBikes(dockId):\n",
    "    graph_df = station_availability_df[station_availability_df['dock_id']==dockId].groupby(['hour']).agg({'avail_bikes': [np.mean]})\n",
    "    graph_df = graph_df.reset_index()\n",
    "    graph_df.columns = graph_df.columns.droplevel(1)\n",
    "    plt.plot(graph_df['hour'], graph_df['avail_bikes'])\n",
    "    plt.rcParams['figure.figsize'] = [30.0, 10.0]\n",
    "    plt.xlabel('hour')\n",
    "    plt.xticks(range(0,25))\n",
    "    plt.ylabel('avail_bikes')\n",
    "    plt.show()"
   ]
  },
  {
   "cell_type": "code",
   "execution_count": 18,
   "metadata": {},
   "outputs": [
    {
     "data": {
      "image/png": "[encoded data removed]",
      "text/plain": [
       "<matplotlib.figure.Figure at 0x11e0a8e48>"
      ]
     },
     "metadata": {},
     "output_type": "display_data"
    }
   ],
   "source": [
    "# most rebalancing\n",
    "plotAverageAvailBikes(521)"
   ]
  },
  {
   "cell_type": "code",
   "execution_count": 19,
   "metadata": {},
   "outputs": [
    {
     "data": {
      "image/png": "[encoded data removed]",
      "text/plain": [
       "<matplotlib.figure.Figure at 0x11967b6d8>"
      ]
     },
     "metadata": {},
     "output_type": "display_data"
    }
   ],
   "source": [
    "# most bikes taken\n",
    "plotAverageAvailBikes(519)"
   ]
  },
  {
   "cell_type": "markdown",
   "metadata": {},
   "source": [
    "# Data Modeling"
   ]
  }
 ],
 "metadata": {
  "kernelspec": {
   "display_name": "Python 3",
   "language": "python",
   "name": "python3"
  },
  "language_info": {
   "codemirror_mode": {
    "name": "ipython",
    "version": 3
   },
   "file_extension": ".py",
   "mimetype": "text/x-python",
   "name": "python",
   "nbconvert_exporter": "python",
   "pygments_lexer": "ipython3",
   "version": "3.6.4"
  }
 },
 "nbformat": 4,
 "nbformat_minor": 2
}
