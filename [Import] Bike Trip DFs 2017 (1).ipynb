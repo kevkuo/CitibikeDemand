{
 "cells": [
  {
   "cell_type": "markdown",
   "metadata": {},
   "source": [
    "# Importing and Tidying Data"
   ]
  },
  {
   "cell_type": "code",
   "execution_count": 1,
   "metadata": {},
   "outputs": [],
   "source": [
    "import pandas as pd\n",
    "import sklearn\n",
    "import matplotlib.pyplot as plt\n",
    "import numpy as np\n",
    "import seaborn as sns\n",
    "from dateutil.relativedelta import relativedelta\n",
    "from datetime import datetime\n",
    "import datetime"
   ]
  },
  {
   "cell_type": "code",
   "execution_count": 2,
   "metadata": {},
   "outputs": [],
   "source": [
    "# create array of dates to use for looping through Citibike's poorly named Index\n",
    "relevant_datetimes = []\n",
    "latest = datetime.date(2017, 12, 1)\n",
    "current = datetime.date(2017, 1, 1)    \n",
    "\n",
    "while current <= latest:\n",
    "    relevant_datetimes.append(current)\n",
    "    current += relativedelta(months=1)\n",
    "\n",
    "#break up list of csvs into two for easier processing\n",
    "bike_trip_df = pd.DataFrame()\n",
    "\n",
    "#combine all trip data CSVs\n",
    "for dt in relevant_datetimes:\n",
    "    df = pd.read_csv('https://s3.amazonaws.com/tripdata/'+str(dt.year)+str(dt.month).zfill(2)+'-citibike-tripdata.csv.zip', compression='zip', header=0, sep=',', quotechar='\"')\n",
    "    df.columns = ['tripduration', 'starttime', 'stoptime', 'start station id',\n",
    "       'start station name', 'start station latitude',\n",
    "       'start station longitude', 'end station id', 'end station name',\n",
    "       'end station latitude', 'end station longitude', 'bikeid', 'usertype',\n",
    "       'birth year', 'gender']\n",
    "    df['starttime'] = df['starttime'].apply(lambda x: x + \":00\" if (x[-3]==\":\") & (x[-6]!=\":\") else x)\n",
    "    df['stoptime'] = df['stoptime'].apply(lambda x: x + \":00\" if (x[-3]==\":\") & (x[-6]!=\":\") else x)\n",
    "    if df['starttime'][0][4] == '-':\n",
    "        df['starttime'] = pd.to_datetime(df['starttime'], format = '%Y-%m-%d %H:%M:%S')\n",
    "        df['stoptime'] = pd.to_datetime(df['stoptime'], format = '%Y-%m-%d %H:%M:%S')\n",
    "    else:\n",
    "        df['starttime'] = pd.to_datetime(df['starttime'], format = '%m/%d/%Y %H:%M:%S')\n",
    "        df['stoptime'] = pd.to_datetime(df['stoptime'], format = '%m/%d/%Y %H:%M:%S')\n",
    "    bike_trip_df = bike_trip_df.append(df)"
   ]
  },
  {
   "cell_type": "code",
   "execution_count": 3,
   "metadata": {},
   "outputs": [
    {
     "name": "stdout",
     "output_type": "stream",
     "text": [
      "<class 'pandas.core.frame.DataFrame'>\n",
      "Int64Index: 16364657 entries, 0 to 889966\n",
      "Data columns (total 15 columns):\n",
      "tripduration               int64\n",
      "starttime                  datetime64[ns]\n",
      "stoptime                   datetime64[ns]\n",
      "start station id           int64\n",
      "start station name         object\n",
      "start station latitude     float64\n",
      "start station longitude    float64\n",
      "end station id             int64\n",
      "end station name           object\n",
      "end station latitude       float64\n",
      "end station longitude      float64\n",
      "bikeid                     int64\n",
      "usertype                   object\n",
      "birth year                 float64\n",
      "gender                     int64\n",
      "dtypes: datetime64[ns](2), float64(5), int64(5), object(3)\n",
      "memory usage: 2.0+ GB\n",
      "None\n",
      "       tripduration  start station id  start station latitude  \\\n",
      "count  1.636466e+07      1.636466e+07            1.636466e+07   \n",
      "mean   9.945862e+02      1.357132e+03            4.073663e+01   \n",
      "std    1.617892e+04      1.346904e+03            7.262269e-02   \n",
      "min    6.100000e+01      7.200000e+01            0.000000e+00   \n",
      "25%    3.720000e+02      3.610000e+02            4.071871e+01   \n",
      "50%    6.210000e+02      4.870000e+02            4.073782e+01   \n",
      "75%    1.076000e+03      3.142000e+03            4.075594e+01   \n",
      "max    9.735948e+06      3.654000e+03            4.550636e+01   \n",
      "\n",
      "       start station longitude  end station id  end station latitude  \\\n",
      "count             1.636466e+07    1.636466e+07          1.636466e+07   \n",
      "mean             -7.398450e+01    1.349138e+03          4.073638e+01   \n",
      "std               1.211708e-01    1.344688e+03          5.225299e-02   \n",
      "min              -7.403423e+01    7.200000e+01          0.000000e+00   \n",
      "25%              -7.399662e+01    3.590000e+02          4.071850e+01   \n",
      "50%              -7.398752e+01    4.860000e+02          4.073705e+01   \n",
      "75%              -7.397606e+01    3.141000e+03          4.075514e+01   \n",
      "max               0.000000e+00    3.654000e+03          4.550636e+01   \n",
      "\n",
      "       end station longitude        bikeid    birth year        gender  \n",
      "count           1.636466e+07  1.636466e+07  1.473432e+07  1.636466e+07  \n",
      "mean           -7.398481e+01  2.375463e+04  1.978895e+03  1.123459e+00  \n",
      "std             7.950876e-02  5.345616e+03  1.183019e+01  5.615377e-01  \n",
      "min            -7.408585e+01  1.452900e+04  1.858000e+03  0.000000e+00  \n",
      "25%            -7.399704e+01  1.865300e+04  1.971000e+03  1.000000e+00  \n",
      "50%            -7.398759e+01  2.546400e+04  1.982000e+03  1.000000e+00  \n",
      "75%            -7.397621e+01  2.811400e+04  1.988000e+03  1.000000e+00  \n",
      "max             0.000000e+00  3.348100e+04  2.001000e+03  2.000000e+00  \n"
     ]
    }
   ],
   "source": [
    "print(bike_trip_df.info())\n",
    "print(bike_trip_df.describe())"
   ]
  },
  {
   "cell_type": "code",
   "execution_count": 4,
   "metadata": {},
   "outputs": [
    {
     "data": {
      "image/png": "[encoded data removed]",
      "text/plain": [
       "<matplotlib.figure.Figure at 0x116a195c0>"
      ]
     },
     "metadata": {},
     "output_type": "display_data"
    }
   ],
   "source": [
    "bike_trip_df['tripduration'].plot(kind='hist', rot=70, logy=True)\n",
    "plt.show()\n",
    "# bike_trip_df['tripduration'].sort_values()\n",
    "# station_availability_df = station_availability_df[station_availability_df.avail_bikes <= 100]\n",
    "# station_availability_df['avail_bikes'].plot(kind='hist', rot=70, logy=True)\n",
    "# plt.show()"
   ]
  },
  {
   "cell_type": "code",
   "execution_count": 5,
   "metadata": {},
   "outputs": [
    {
     "data": {
      "image/png": "[encoded data removed]",
      "text/plain": [
       "<matplotlib.figure.Figure at 0x1a36730208>"
      ]
     },
     "metadata": {},
     "output_type": "display_data"
    }
   ],
   "source": [
    "bike_trip_df['birth year'].plot(kind='hist', rot=70, logy=True)\n",
    "plt.show()\n",
    "\n",
    "#choose 1930 as cutoff\n",
    "bike_trip_df.loc[bike_trip_df['birth year'] < 1930,'birth year'] = np.nan"
   ]
  },
  {
   "cell_type": "code",
   "execution_count": 6,
   "metadata": {},
   "outputs": [],
   "source": [
    "bike_trip_df.to_csv('bike_trip_df')"
   ]
  }
 ],
 "metadata": {
  "kernelspec": {
   "display_name": "Python 3",
   "language": "python",
   "name": "python3"
  },
  "language_info": {
   "codemirror_mode": {
    "name": "ipython",
    "version": 3
   },
   "file_extension": ".py",
   "mimetype": "text/x-python",
   "name": "python",
   "nbconvert_exporter": "python",
   "pygments_lexer": "ipython3",
   "version": "3.6.4"
  }
 },
 "nbformat": 4,
 "nbformat_minor": 2
}
