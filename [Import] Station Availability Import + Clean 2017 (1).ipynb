{
 "cells": [
  {
   "cell_type": "markdown",
   "metadata": {},
   "source": [
    "# Importing and Tidying Data"
   ]
  },
  {
   "cell_type": "markdown",
   "metadata": {},
   "source": [
    "bikeshare_nyc_raw.csv:\n",
    "* dock_id: official dock id provided by Citi Bike\n",
    "* dock_name: official dock name provided by Citi Bike\n",
    "* date: year-month-day format\n",
    "* hour: hour of day (am/pm is determined by ‘pm’ variable)\n",
    "* minute: minute of hour\n",
    "* pm: 0–am 1–pm\n",
    "* avail_bikes: number of available bikes\n",
    "* avail_docks: number of available (empty) docks\n",
    "* tot_docks: number of functioning (online) docks\n",
    "* _lat: degrees latitude of station\n",
    "* _long: degrees longitude of station\n",
    "\n",
    "New properties\n",
    "* statusValue: \"Not In Service\",\n",
    "* statusKey: 3,\n",
    "* stAddress1: \"Pitt St & Stanton St\",\n",
    "* stAddress2: \"\",\n",
    "* city: \"\",\n",
    "* postalCode: \"\",\n",
    "* location: \"\",\n",
    "* altitude: \"\",\n",
    "* testStation: false,\n",
    "* lastCommunicationTime: \"2018-03-16 04:17:02 AM\",\n",
    "* landMark: \"\""
   ]
  },
  {
   "cell_type": "code",
   "execution_count": 1,
   "metadata": {},
   "outputs": [],
   "source": [
    "import os\n",
    "import pandas as pd\n",
    "import warnings\n",
    "warnings.filterwarnings('ignore')"
   ]
  },
  {
   "cell_type": "code",
   "execution_count": 2,
   "metadata": {},
   "outputs": [],
   "source": [
    "#hacky method of getting folder names and breaking folders containing CSVs into four groups\n",
    "pathName2 = os.getcwd() + '/AvailabilityData2'\n",
    "folderNames2 = os.listdir(pathName2)\n",
    "folderBatch3 = folderNames2[8:-2]\n",
    "\n",
    "#function that takes folder groups and takes their respective CSVs for combining, cleaning and setting datatypes\n",
    "def importAndCleanData(pathName, folderBatch):\n",
    "    # loop through each folder batches to append csv data to a dataframe (even the dirty data, coerce dtype errors later)\n",
    "    dock_availability_df = pd.DataFrame()\n",
    "    for folder in folderBatch:\n",
    "        dock_availability_df = dock_availability_df.append(pd.read_csv(pathName+'/'+ folder +'/bikeshare_nyc_raw.csv',sep='\\t',error_bad_lines = False\n",
    "#                               ,warn_bad_lines=False\n",
    "                             ))\n",
    "    \n",
    "\n",
    "    #create list of columns created by ignoring bad line errors and name it dirty_columns\n",
    "    clean_columns = ['dock_id','dock_name','date','hour','minute','pm','avail_bikes','avail_docks','tot_docks','_lat','_long', 'in_service', 'status_key']\n",
    "    dirty_columns = [c for c in dock_availability_df.columns if c not in clean_columns]\n",
    "\n",
    "    #delete the rows that have values for the dirty columns and delete the dirty columns\n",
    "    for column in dirty_columns:\n",
    "#         dock_availability_df = dock_availability_df.drop(dock_availability_df[column].notnull())\n",
    "        dock_availability_df = dock_availability_df.drop(column, axis=1)\n",
    "\n",
    "    #convert columns to correct dtypes -decrease memory usage- and coerce errors\n",
    "    numeric_columns = ['dock_id','hour','minute','avail_bikes','avail_docks','tot_docks','_lat','_long']\n",
    "    category_columns = ['pm','in_service', 'status_key']\n",
    "    dock_availability_df['date'] = pd.to_datetime(dock_availability_df['date'], format = '%y-%m-%d')\n",
    "\n",
    "    for column in numeric_columns:\n",
    "        dock_availability_df[column] = pd.to_numeric(dock_availability_df[column], errors = 'coerce')\n",
    "        \n",
    "    for column in category_columns:\n",
    "        dock_availability_df[column] = dock_availability_df[column].astype('category')\n",
    "\n",
    "    #drop rows with NaNs\n",
    "    dock_availability_df = dock_availability_df.dropna()\n",
    "\n",
    "    return dock_availability_df"
   ]
  },
  {
   "cell_type": "code",
   "execution_count": 3,
   "metadata": {},
   "outputs": [],
   "source": [
    "station_availability_df = importAndCleanData(pathName2, folderBatch3)"
   ]
  },
  {
   "cell_type": "code",
   "execution_count": 4,
   "metadata": {},
   "outputs": [
    {
     "data": {
      "text/html": [
       "<div>\n",
       "<style scoped>\n",
       "    .dataframe tbody tr th:only-of-type {\n",
       "        vertical-align: middle;\n",
       "    }\n",
       "\n",
       "    .dataframe tbody tr th {\n",
       "        vertical-align: top;\n",
       "    }\n",
       "\n",
       "    .dataframe thead th {\n",
       "        text-align: right;\n",
       "    }\n",
       "</style>\n",
       "<table border=\"1\" class=\"dataframe\">\n",
       "  <thead>\n",
       "    <tr style=\"text-align: right;\">\n",
       "      <th></th>\n",
       "      <th>dock_id</th>\n",
       "      <th>dock_name</th>\n",
       "      <th>date</th>\n",
       "      <th>hour</th>\n",
       "      <th>minute</th>\n",
       "      <th>avail_bikes</th>\n",
       "      <th>avail_docks</th>\n",
       "      <th>tot_docks</th>\n",
       "      <th>_lat</th>\n",
       "      <th>_long</th>\n",
       "      <th>in_service</th>\n",
       "      <th>status_key</th>\n",
       "    </tr>\n",
       "  </thead>\n",
       "  <tbody>\n",
       "    <tr>\n",
       "      <th>0</th>\n",
       "      <td>72</td>\n",
       "      <td>W 52 St &amp; 11 Ave</td>\n",
       "      <td>2017-02-01</td>\n",
       "      <td>14</td>\n",
       "      <td>22</td>\n",
       "      <td>4</td>\n",
       "      <td>35</td>\n",
       "      <td>39</td>\n",
       "      <td>40.767272</td>\n",
       "      <td>-73.993929</td>\n",
       "      <td>1</td>\n",
       "      <td>1</td>\n",
       "    </tr>\n",
       "    <tr>\n",
       "      <th>1</th>\n",
       "      <td>72</td>\n",
       "      <td>W 52 St &amp; 11 Ave</td>\n",
       "      <td>2017-02-01</td>\n",
       "      <td>15</td>\n",
       "      <td>35</td>\n",
       "      <td>1</td>\n",
       "      <td>38</td>\n",
       "      <td>39</td>\n",
       "      <td>40.767272</td>\n",
       "      <td>-73.993929</td>\n",
       "      <td>1</td>\n",
       "      <td>1</td>\n",
       "    </tr>\n",
       "    <tr>\n",
       "      <th>2</th>\n",
       "      <td>72</td>\n",
       "      <td>W 52 St &amp; 11 Ave</td>\n",
       "      <td>2017-02-01</td>\n",
       "      <td>16</td>\n",
       "      <td>49</td>\n",
       "      <td>0</td>\n",
       "      <td>39</td>\n",
       "      <td>39</td>\n",
       "      <td>40.767272</td>\n",
       "      <td>-73.993929</td>\n",
       "      <td>1</td>\n",
       "      <td>1</td>\n",
       "    </tr>\n",
       "    <tr>\n",
       "      <th>3</th>\n",
       "      <td>72</td>\n",
       "      <td>W 52 St &amp; 11 Ave</td>\n",
       "      <td>2017-02-01</td>\n",
       "      <td>18</td>\n",
       "      <td>2</td>\n",
       "      <td>0</td>\n",
       "      <td>39</td>\n",
       "      <td>39</td>\n",
       "      <td>40.767272</td>\n",
       "      <td>-73.993929</td>\n",
       "      <td>1</td>\n",
       "      <td>1</td>\n",
       "    </tr>\n",
       "    <tr>\n",
       "      <th>4</th>\n",
       "      <td>72</td>\n",
       "      <td>W 52 St &amp; 11 Ave</td>\n",
       "      <td>2017-02-01</td>\n",
       "      <td>20</td>\n",
       "      <td>16</td>\n",
       "      <td>7</td>\n",
       "      <td>32</td>\n",
       "      <td>39</td>\n",
       "      <td>40.767272</td>\n",
       "      <td>-73.993929</td>\n",
       "      <td>1</td>\n",
       "      <td>1</td>\n",
       "    </tr>\n",
       "  </tbody>\n",
       "</table>\n",
       "</div>"
      ],
      "text/plain": [
       "   dock_id         dock_name       date  hour  minute  avail_bikes  \\\n",
       "0       72  W 52 St & 11 Ave 2017-02-01    14      22            4   \n",
       "1       72  W 52 St & 11 Ave 2017-02-01    15      35            1   \n",
       "2       72  W 52 St & 11 Ave 2017-02-01    16      49            0   \n",
       "3       72  W 52 St & 11 Ave 2017-02-01    18       2            0   \n",
       "4       72  W 52 St & 11 Ave 2017-02-01    20      16            7   \n",
       "\n",
       "   avail_docks  tot_docks       _lat      _long in_service status_key  \n",
       "0           35         39  40.767272 -73.993929          1          1  \n",
       "1           38         39  40.767272 -73.993929          1          1  \n",
       "2           39         39  40.767272 -73.993929          1          1  \n",
       "3           39         39  40.767272 -73.993929          1          1  \n",
       "4           32         39  40.767272 -73.993929          1          1  "
      ]
     },
     "execution_count": 4,
     "metadata": {},
     "output_type": "execute_result"
    }
   ],
   "source": [
    "#transform hour + pm into 24hr\n",
    "station_availability_df.loc[station_availability_df.pm == 1, 'hour'] = station_availability_df.loc[station_availability_df.pm == 1, 'hour'] + 12\n",
    "station_availability_df.loc[(station_availability_df['hour'] == 12),'hour'] = 0\n",
    "station_availability_df.loc[(station_availability_df['hour'] == 24),'hour'] = 12\n",
    "station_availability_df = station_availability_df.drop('pm', axis=1)\n",
    "station_availability_df.head()"
   ]
  },
  {
   "cell_type": "code",
   "execution_count": 5,
   "metadata": {},
   "outputs": [],
   "source": [
    "station_availability_df['dow'] = station_availability_df.date.apply(lambda x : x.weekday())\n",
    "station_availability_df['month'] = station_availability_df.date.apply(lambda x : x.month)\n",
    "station_availability_df = station_availability_df.rename(index=str, columns={\"_lat\": \"lat\", \"_long\": \"long\"})"
   ]
  },
  {
   "cell_type": "markdown",
   "metadata": {},
   "source": [
    "# Exploring and Cleaning Data"
   ]
  },
  {
   "cell_type": "code",
   "execution_count": 6,
   "metadata": {},
   "outputs": [],
   "source": [
    "# def check_null_or_valid(row_data):\n",
    "#     \"\"\"Function that takes a row of data,\n",
    "#     drops all missing values,\n",
    "#     and checks if all remaining values are greater than or equal to 0\n",
    "#     \"\"\"\n",
    "#     no_na = row_data.dropna()[1:-1]\n",
    "#     numeric = pd.to_numeric(no_na)\n",
    "#     ge0 = numeric >= 0\n",
    "#     return ge0\n",
    "\n",
    "# # Check whether the first column is 'Life expectancy'\n",
    "# assert g1800s.columns[0] == 'Life expectancy'\n",
    "\n",
    "# # Check whether the values in the row are valid\n",
    "# assert g1800s.iloc[:, 1:].apply(check_null_or_valid, axis=1).all().all()\n",
    "\n",
    "# # Check that there is only one instance of each country\n",
    "# assert g1800s['Life expectancy'].value_counts()[0] == 1"
   ]
  },
  {
   "cell_type": "code",
   "execution_count": 7,
   "metadata": {},
   "outputs": [
    {
     "name": "stdout",
     "output_type": "stream",
     "text": [
      "<class 'pandas.core.frame.DataFrame'>\n",
      "Index: 4943453 entries, 0 to 505303\n",
      "Data columns (total 14 columns):\n",
      "dock_id        int64\n",
      "dock_name      object\n",
      "date           datetime64[ns]\n",
      "hour           int64\n",
      "minute         int64\n",
      "avail_bikes    int64\n",
      "avail_docks    int64\n",
      "tot_docks      int64\n",
      "lat            float64\n",
      "long           float64\n",
      "in_service     category\n",
      "status_key     category\n",
      "dow            int64\n",
      "month          int64\n",
      "dtypes: category(2), datetime64[ns](1), float64(2), int64(8), object(1)\n",
      "memory usage: 499.7+ MB\n",
      "None\n"
     ]
    }
   ],
   "source": [
    "print(station_availability_df.info())\n",
    "#drop rows with null values in dirty columns: 27662565 records\n",
    "#drop rows with values in dirty columns: 26290342"
   ]
  },
  {
   "cell_type": "code",
   "execution_count": 8,
   "metadata": {},
   "outputs": [
    {
     "name": "stdout",
     "output_type": "stream",
     "text": [
      "            dock_id          hour        minute   avail_bikes   avail_docks  \\\n",
      "count  4.943453e+06  4.943453e+06  4.943453e+06  4.943453e+06  4.943453e+06   \n",
      "mean   1.991637e+03  1.149240e+01  2.940147e+01  1.142064e+01  1.835629e+01   \n",
      "std    1.421996e+03  7.062601e+00  1.731523e+01  1.067503e+01  1.298200e+01   \n",
      "min    7.200000e+01  0.000000e+00  0.000000e+00  0.000000e+00  0.000000e+00   \n",
      "25%    4.050000e+02  5.000000e+00  1.400000e+01  2.000000e+00  8.000000e+00   \n",
      "50%    3.074000e+03  1.200000e+01  2.900000e+01  9.000000e+00  1.700000e+01   \n",
      "75%    3.284000e+03  1.800000e+01  4.500000e+01  1.800000e+01  2.700000e+01   \n",
      "max    3.497000e+03  2.300000e+01  5.900000e+01  6.700000e+01  6.700000e+01   \n",
      "\n",
      "          tot_docks           lat          long           dow         month  \n",
      "count  4.943453e+06  4.943453e+06  4.943453e+06  4.943453e+06  4.943453e+06  \n",
      "mean   3.102225e+01  4.072740e+01 -7.398378e+01  3.036674e+00  7.713520e+00  \n",
      "std    1.088965e+01  3.488048e-02  2.878978e-02  1.966102e+00  3.053446e+00  \n",
      "min    0.000000e+00  4.065540e+01 -7.409694e+01  0.000000e+00  2.000000e+00  \n",
      "25%    2.300000e+01  4.069865e+01 -7.399725e+01  1.000000e+00  5.000000e+00  \n",
      "50%    3.000000e+01  4.072366e+01 -7.398258e+01  3.000000e+00  8.000000e+00  \n",
      "75%    3.900000e+01  4.075256e+01 -7.396226e+01  5.000000e+00  1.000000e+01  \n",
      "max    6.700000e+01  4.080421e+01 -7.392989e+01  6.000000e+00  1.200000e+01  \n"
     ]
    }
   ],
   "source": [
    "print(station_availability_df.describe())"
   ]
  },
  {
   "cell_type": "code",
   "execution_count": 9,
   "metadata": {},
   "outputs": [
    {
     "data": {
      "image/png": "[encoded data removed]",
      "text/plain": [
       "<matplotlib.figure.Figure at 0x108366f60>"
      ]
     },
     "metadata": {},
     "output_type": "display_data"
    },
    {
     "data": {
      "image/png": "[encoded data removed]",
      "text/plain": [
       "<matplotlib.figure.Figure at 0x108385668>"
      ]
     },
     "metadata": {},
     "output_type": "display_data"
    }
   ],
   "source": [
    "import matplotlib.pyplot as plt\n",
    "from datetime import datetime\n",
    "import numpy as np\n",
    "%matplotlib inline\n",
    "\n",
    "# get rid of avail_bikes outliers\n",
    "station_availability_df['avail_bikes'].plot(kind='hist', rot=70, logy=True)\n",
    "plt.show()\n",
    "station_availability_df = station_availability_df[station_availability_df.avail_bikes <= 100]\n",
    "station_availability_df['avail_bikes'].plot(kind='hist', rot=70, logy=True)\n",
    "plt.show()"
   ]
  },
  {
   "cell_type": "code",
   "execution_count": 10,
   "metadata": {},
   "outputs": [
    {
     "data": {
      "text/plain": [
       "<matplotlib.axes._subplots.AxesSubplot at 0x107f9b5f8>"
      ]
     },
     "execution_count": 10,
     "metadata": {},
     "output_type": "execute_result"
    },
    {
     "data": {
      "image/png": "[encoded data removed]",
      "text/plain": [
       "<matplotlib.figure.Figure at 0x107fbb518>"
      ]
     },
     "metadata": {},
     "output_type": "display_data"
    }
   ],
   "source": [
    "# no avail_docks outliers to get rid of\n",
    "station_availability_df['avail_docks'].plot(kind='hist', rot=70, logy=True)"
   ]
  },
  {
   "cell_type": "code",
   "execution_count": 11,
   "metadata": {},
   "outputs": [
    {
     "data": {
      "image/png": "[encoded data removed]",
      "text/plain": [
       "<matplotlib.figure.Figure at 0x107fe7cf8>"
      ]
     },
     "metadata": {},
     "output_type": "display_data"
    },
    {
     "data": {
      "image/png": "[encoded data removed]",
      "text/plain": [
       "<matplotlib.figure.Figure at 0x108004080>"
      ]
     },
     "metadata": {},
     "output_type": "display_data"
    }
   ],
   "source": [
    "# get rid of tot_docks outliers\n",
    "station_availability_df['tot_docks'].plot(kind='hist', rot=70, logy=True)\n",
    "plt.show()\n",
    "station_availability_df = station_availability_df[station_availability_df.tot_docks != 2727]\n",
    "station_availability_df['tot_docks'].plot(kind='hist', rot=70, logy=True)\n",
    "plt.show()"
   ]
  },
  {
   "cell_type": "code",
   "execution_count": 12,
   "metadata": {},
   "outputs": [
    {
     "data": {
      "image/png": "[encoded data removed]",
      "text/plain": [
       "<matplotlib.figure.Figure at 0x107290390>"
      ]
     },
     "metadata": {},
     "output_type": "display_data"
    },
    {
     "data": {
      "image/png": "[encoded data removed]",
      "text/plain": [
       "<matplotlib.figure.Figure at 0x10751e4e0>"
      ]
     },
     "metadata": {},
     "output_type": "display_data"
    }
   ],
   "source": [
    "#get rid of docks without enough data points: more or equal to 1440, as this is how many rows a dock generates a month\n",
    "station_availability_df['dock_id'].plot(kind='hist', logx = True, logy=True)\n",
    "plt.show()\n",
    "station_availability_df = station_availability_df.groupby('dock_id').filter(lambda x: len(x) >= 1440)\n",
    "station_availability_df['dock_id'].plot(kind='hist', logx = True, logy=True)\n",
    "plt.show()"
   ]
  },
  {
   "cell_type": "code",
   "execution_count": 13,
   "metadata": {},
   "outputs": [
    {
     "data": {
      "text/plain": [
       "In Service        4725719\n",
       "Not In Service     206571\n",
       "Name: status_value, dtype: int64"
      ]
     },
     "execution_count": 13,
     "metadata": {},
     "output_type": "execute_result"
    }
   ],
   "source": [
    "#see data distribution of active/inactive stations\n",
    "station_availability_df.loc[station_availability_df['status_key']==1,'status_value'] = \"In Service\"\n",
    "station_availability_df.loc[station_availability_df['status_key']==3,'status_value'] = \"Not In Service\"\n",
    "station_availability_df.status_value.value_counts()"
   ]
  },
  {
   "cell_type": "code",
   "execution_count": 14,
   "metadata": {},
   "outputs": [],
   "source": [
    "#function for seeing average number of bikes at a dock over the hours of the day, averaged amongst every day\n",
    "def plotAverageAvailBikes(dockId):\n",
    "    plt.rcParams['figure.figsize'] = [30.0, 10.0]\n",
    "    graph_df = station_availability_df[station_availability_df['dock_id']==dockId].groupby(['hour']).agg({'avail_bikes': [np.mean]})\n",
    "    graph_df = graph_df.reset_index()\n",
    "    graph_df.columns = graph_df.columns.droplevel(1)\n",
    "    plt.plot(graph_df['hour'], graph_df['avail_bikes'])\n",
    "    plt.xlabel('hour')\n",
    "    plt.xticks(range(0,25))\n",
    "    plt.ylabel('avail_bikes')\n",
    "    plt.show()"
   ]
  },
  {
   "cell_type": "code",
   "execution_count": 15,
   "metadata": {},
   "outputs": [
    {
     "data": {
      "image/png": "[encoded data removed]",
      "text/plain": [
       "<matplotlib.figure.Figure at 0x1076615f8>"
      ]
     },
     "metadata": {},
     "output_type": "display_data"
    }
   ],
   "source": [
    "# most rebalancing\n",
    "plotAverageAvailBikes(521)"
   ]
  },
  {
   "cell_type": "code",
   "execution_count": null,
   "metadata": {},
   "outputs": [
    {
     "data": {
      "image/png": "[encoded data removed]",
      "text/plain": [
       "<matplotlib.figure.Figure at 0x107506d68>"
      ]
     },
     "metadata": {},
     "output_type": "display_data"
    }
   ],
   "source": [
    "# most bikes taken\n",
    "plotAverageAvailBikes(519)"
   ]
  },
  {
   "cell_type": "code",
   "execution_count": null,
   "metadata": {},
   "outputs": [],
   "source": [
    "station_availability_df.to_csv('station_availability_df')"
   ]
  }
 ],
 "metadata": {
  "kernelspec": {
   "display_name": "Python 3",
   "language": "python",
   "name": "python3"
  },
  "language_info": {
   "codemirror_mode": {
    "name": "ipython",
    "version": 3
   },
   "file_extension": ".py",
   "mimetype": "text/x-python",
   "name": "python",
   "nbconvert_exporter": "python",
   "pygments_lexer": "ipython3",
   "version": "3.6.4"
  }
 },
 "nbformat": 4,
 "nbformat_minor": 2
}
